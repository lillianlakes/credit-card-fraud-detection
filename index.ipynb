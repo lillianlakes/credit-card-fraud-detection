{
 "cells": [
  {
   "cell_type": "markdown",
   "metadata": {},
   "source": [
    "## Preliminary Steps"
   ]
  },
  {
   "cell_type": "markdown",
   "metadata": {},
   "source": [
    "### Import the necessary modules"
   ]
  },
  {
   "cell_type": "code",
   "execution_count": 253,
   "metadata": {},
   "outputs": [],
   "source": [
    "import numpy as np\n",
    "import pandas as pd\n",
    "import matplotlib.pyplot as plt\n",
    "import seaborn as sns\n",
    "import zipfile\n",
    "import datetime\n",
    "import calendar\n",
    "from sklearn.model_selection import train_test_split\n",
    "from sklearn.preprocessing import OneHotEncoder, StandardScaler\n",
    "from imblearn.over_sampling import SMOTE\n",
    "from sklearn.dummy import DummyClassifier\n",
    "from sklearn.tree import DecisionTreeClassifier\n",
    "from sklearn.linear_model import LogisticRegression\n",
    "from sklearn import tree\n",
    "from sklearn.metrics import classification_report, confusion_matrix, ConfusionMatrixDisplay, accuracy_score, precision_score, \\\n",
    "    recall_score, f1_score, roc_auc_score, roc_curve\n",
    "from matplotlib.ticker import FuncFormatter"
   ]
  },
  {
   "cell_type": "markdown",
   "metadata": {},
   "source": [
    "### Import the Fraud Detection dataset"
   ]
  },
  {
   "cell_type": "code",
   "execution_count": 254,
   "metadata": {},
   "outputs": [],
   "source": [
    "with zipfile.ZipFile('fraud_detection.zip') as z1:\n",
    "    with z1.open('Fraud_Data.csv') as Fraud_Data:\n",
    "        fraud_data = pd.read_csv(Fraud_Data)\n",
    "    with z1.open('IpAddress_to_Country.csv') as IpAddress_to_Country:\n",
    "        ip_table = pd.read_csv(IpAddress_to_Country)"
   ]
  },
  {
   "cell_type": "markdown",
   "metadata": {},
   "source": [
    "## Exploratory Data Analysis"
   ]
  },
  {
   "cell_type": "markdown",
   "metadata": {},
   "source": [
    "### Explore the Fraud data"
   ]
  },
  {
   "cell_type": "code",
   "execution_count": 255,
   "metadata": {},
   "outputs": [
    {
     "name": "stdout",
     "output_type": "stream",
     "text": [
      "<class 'pandas.core.frame.DataFrame'>\n",
      "RangeIndex: 151112 entries, 0 to 151111\n",
      "Data columns (total 11 columns):\n",
      " #   Column          Non-Null Count   Dtype  \n",
      "---  ------          --------------   -----  \n",
      " 0   user_id         151112 non-null  int64  \n",
      " 1   signup_time     151112 non-null  object \n",
      " 2   purchase_time   151112 non-null  object \n",
      " 3   purchase_value  151112 non-null  int64  \n",
      " 4   device_id       151112 non-null  object \n",
      " 5   source          151112 non-null  object \n",
      " 6   browser         151112 non-null  object \n",
      " 7   sex             151112 non-null  object \n",
      " 8   age             151112 non-null  int64  \n",
      " 9   ip_address      151112 non-null  float64\n",
      " 10  class           151112 non-null  int64  \n",
      "dtypes: float64(1), int64(4), object(6)\n",
      "memory usage: 12.7+ MB\n"
     ]
    }
   ],
   "source": [
    "fraud_data.info()"
   ]
  },
  {
   "cell_type": "code",
   "execution_count": 256,
   "metadata": {},
   "outputs": [
    {
     "data": {
      "text/html": [
       "<div>\n",
       "<style scoped>\n",
       "    .dataframe tbody tr th:only-of-type {\n",
       "        vertical-align: middle;\n",
       "    }\n",
       "\n",
       "    .dataframe tbody tr th {\n",
       "        vertical-align: top;\n",
       "    }\n",
       "\n",
       "    .dataframe thead th {\n",
       "        text-align: right;\n",
       "    }\n",
       "</style>\n",
       "<table border=\"1\" class=\"dataframe\">\n",
       "  <thead>\n",
       "    <tr style=\"text-align: right;\">\n",
       "      <th></th>\n",
       "      <th>user_id</th>\n",
       "      <th>purchase_value</th>\n",
       "      <th>age</th>\n",
       "      <th>ip_address</th>\n",
       "      <th>class</th>\n",
       "    </tr>\n",
       "  </thead>\n",
       "  <tbody>\n",
       "    <tr>\n",
       "      <th>count</th>\n",
       "      <td>151112.000000</td>\n",
       "      <td>151112.000000</td>\n",
       "      <td>151112.000000</td>\n",
       "      <td>1.511120e+05</td>\n",
       "      <td>151112.000000</td>\n",
       "    </tr>\n",
       "    <tr>\n",
       "      <th>mean</th>\n",
       "      <td>200171.040970</td>\n",
       "      <td>36.935372</td>\n",
       "      <td>33.140704</td>\n",
       "      <td>2.152145e+09</td>\n",
       "      <td>0.093646</td>\n",
       "    </tr>\n",
       "    <tr>\n",
       "      <th>std</th>\n",
       "      <td>115369.285024</td>\n",
       "      <td>18.322762</td>\n",
       "      <td>8.617733</td>\n",
       "      <td>1.248497e+09</td>\n",
       "      <td>0.291336</td>\n",
       "    </tr>\n",
       "    <tr>\n",
       "      <th>min</th>\n",
       "      <td>2.000000</td>\n",
       "      <td>9.000000</td>\n",
       "      <td>18.000000</td>\n",
       "      <td>5.209350e+04</td>\n",
       "      <td>0.000000</td>\n",
       "    </tr>\n",
       "    <tr>\n",
       "      <th>25%</th>\n",
       "      <td>100642.500000</td>\n",
       "      <td>22.000000</td>\n",
       "      <td>27.000000</td>\n",
       "      <td>1.085934e+09</td>\n",
       "      <td>0.000000</td>\n",
       "    </tr>\n",
       "    <tr>\n",
       "      <th>50%</th>\n",
       "      <td>199958.000000</td>\n",
       "      <td>35.000000</td>\n",
       "      <td>33.000000</td>\n",
       "      <td>2.154770e+09</td>\n",
       "      <td>0.000000</td>\n",
       "    </tr>\n",
       "    <tr>\n",
       "      <th>75%</th>\n",
       "      <td>300054.000000</td>\n",
       "      <td>49.000000</td>\n",
       "      <td>39.000000</td>\n",
       "      <td>3.243258e+09</td>\n",
       "      <td>0.000000</td>\n",
       "    </tr>\n",
       "    <tr>\n",
       "      <th>max</th>\n",
       "      <td>400000.000000</td>\n",
       "      <td>154.000000</td>\n",
       "      <td>76.000000</td>\n",
       "      <td>4.294850e+09</td>\n",
       "      <td>1.000000</td>\n",
       "    </tr>\n",
       "  </tbody>\n",
       "</table>\n",
       "</div>"
      ],
      "text/plain": [
       "             user_id  purchase_value            age    ip_address  \\\n",
       "count  151112.000000   151112.000000  151112.000000  1.511120e+05   \n",
       "mean   200171.040970       36.935372      33.140704  2.152145e+09   \n",
       "std    115369.285024       18.322762       8.617733  1.248497e+09   \n",
       "min         2.000000        9.000000      18.000000  5.209350e+04   \n",
       "25%    100642.500000       22.000000      27.000000  1.085934e+09   \n",
       "50%    199958.000000       35.000000      33.000000  2.154770e+09   \n",
       "75%    300054.000000       49.000000      39.000000  3.243258e+09   \n",
       "max    400000.000000      154.000000      76.000000  4.294850e+09   \n",
       "\n",
       "               class  \n",
       "count  151112.000000  \n",
       "mean        0.093646  \n",
       "std         0.291336  \n",
       "min         0.000000  \n",
       "25%         0.000000  \n",
       "50%         0.000000  \n",
       "75%         0.000000  \n",
       "max         1.000000  "
      ]
     },
     "execution_count": 256,
     "metadata": {},
     "output_type": "execute_result"
    }
   ],
   "source": [
    "# The proportion of fraud in this dataset (as measured by the 'class' column) is 9.36%\n",
    "\n",
    "fraud_data.describe()"
   ]
  },
  {
   "cell_type": "code",
   "execution_count": 257,
   "metadata": {},
   "outputs": [
    {
     "data": {
      "text/plain": [
       "sex                    2\n",
       "class                  2\n",
       "source                 3\n",
       "browser                5\n",
       "age                   58\n",
       "purchase_value       122\n",
       "device_id         137956\n",
       "ip_address        143512\n",
       "purchase_time     150679\n",
       "user_id           151112\n",
       "signup_time       151112\n",
       "dtype: int64"
      ]
     },
     "execution_count": 257,
     "metadata": {},
     "output_type": "execute_result"
    }
   ],
   "source": [
    "# Only user_id and signup_time have all unique values\n",
    "\n",
    "fraud_data.nunique().sort_values()"
   ]
  },
  {
   "cell_type": "code",
   "execution_count": 258,
   "metadata": {},
   "outputs": [
    {
     "data": {
      "text/html": [
       "<div>\n",
       "<style scoped>\n",
       "    .dataframe tbody tr th:only-of-type {\n",
       "        vertical-align: middle;\n",
       "    }\n",
       "\n",
       "    .dataframe tbody tr th {\n",
       "        vertical-align: top;\n",
       "    }\n",
       "\n",
       "    .dataframe thead th {\n",
       "        text-align: right;\n",
       "    }\n",
       "</style>\n",
       "<table border=\"1\" class=\"dataframe\">\n",
       "  <thead>\n",
       "    <tr style=\"text-align: right;\">\n",
       "      <th></th>\n",
       "      <th>user_id</th>\n",
       "      <th>signup_time</th>\n",
       "      <th>purchase_time</th>\n",
       "      <th>purchase_value</th>\n",
       "      <th>device_id</th>\n",
       "      <th>source</th>\n",
       "      <th>browser</th>\n",
       "      <th>sex</th>\n",
       "      <th>age</th>\n",
       "      <th>ip_address</th>\n",
       "      <th>class</th>\n",
       "    </tr>\n",
       "  </thead>\n",
       "  <tbody>\n",
       "    <tr>\n",
       "      <th>0</th>\n",
       "      <td>22058</td>\n",
       "      <td>2015-02-24 22:55:49</td>\n",
       "      <td>2015-04-18 02:47:11</td>\n",
       "      <td>34</td>\n",
       "      <td>QVPSPJUOCKZAR</td>\n",
       "      <td>SEO</td>\n",
       "      <td>Chrome</td>\n",
       "      <td>M</td>\n",
       "      <td>39</td>\n",
       "      <td>7.327584e+08</td>\n",
       "      <td>0</td>\n",
       "    </tr>\n",
       "    <tr>\n",
       "      <th>1</th>\n",
       "      <td>333320</td>\n",
       "      <td>2015-06-07 20:39:50</td>\n",
       "      <td>2015-06-08 01:38:54</td>\n",
       "      <td>16</td>\n",
       "      <td>EOGFQPIZPYXFZ</td>\n",
       "      <td>Ads</td>\n",
       "      <td>Chrome</td>\n",
       "      <td>F</td>\n",
       "      <td>53</td>\n",
       "      <td>3.503114e+08</td>\n",
       "      <td>0</td>\n",
       "    </tr>\n",
       "    <tr>\n",
       "      <th>2</th>\n",
       "      <td>1359</td>\n",
       "      <td>2015-01-01 18:52:44</td>\n",
       "      <td>2015-01-01 18:52:45</td>\n",
       "      <td>15</td>\n",
       "      <td>YSSKYOSJHPPLJ</td>\n",
       "      <td>SEO</td>\n",
       "      <td>Opera</td>\n",
       "      <td>M</td>\n",
       "      <td>53</td>\n",
       "      <td>2.621474e+09</td>\n",
       "      <td>1</td>\n",
       "    </tr>\n",
       "    <tr>\n",
       "      <th>3</th>\n",
       "      <td>150084</td>\n",
       "      <td>2015-04-28 21:13:25</td>\n",
       "      <td>2015-05-04 13:54:50</td>\n",
       "      <td>44</td>\n",
       "      <td>ATGTXKYKUDUQN</td>\n",
       "      <td>SEO</td>\n",
       "      <td>Safari</td>\n",
       "      <td>M</td>\n",
       "      <td>41</td>\n",
       "      <td>3.840542e+09</td>\n",
       "      <td>0</td>\n",
       "    </tr>\n",
       "    <tr>\n",
       "      <th>4</th>\n",
       "      <td>221365</td>\n",
       "      <td>2015-07-21 07:09:52</td>\n",
       "      <td>2015-09-09 18:40:53</td>\n",
       "      <td>39</td>\n",
       "      <td>NAUITBZFJKHWW</td>\n",
       "      <td>Ads</td>\n",
       "      <td>Safari</td>\n",
       "      <td>M</td>\n",
       "      <td>45</td>\n",
       "      <td>4.155831e+08</td>\n",
       "      <td>0</td>\n",
       "    </tr>\n",
       "  </tbody>\n",
       "</table>\n",
       "</div>"
      ],
      "text/plain": [
       "   user_id          signup_time        purchase_time  purchase_value  \\\n",
       "0    22058  2015-02-24 22:55:49  2015-04-18 02:47:11              34   \n",
       "1   333320  2015-06-07 20:39:50  2015-06-08 01:38:54              16   \n",
       "2     1359  2015-01-01 18:52:44  2015-01-01 18:52:45              15   \n",
       "3   150084  2015-04-28 21:13:25  2015-05-04 13:54:50              44   \n",
       "4   221365  2015-07-21 07:09:52  2015-09-09 18:40:53              39   \n",
       "\n",
       "       device_id source browser sex  age    ip_address  class  \n",
       "0  QVPSPJUOCKZAR    SEO  Chrome   M   39  7.327584e+08      0  \n",
       "1  EOGFQPIZPYXFZ    Ads  Chrome   F   53  3.503114e+08      0  \n",
       "2  YSSKYOSJHPPLJ    SEO   Opera   M   53  2.621474e+09      1  \n",
       "3  ATGTXKYKUDUQN    SEO  Safari   M   41  3.840542e+09      0  \n",
       "4  NAUITBZFJKHWW    Ads  Safari   M   45  4.155831e+08      0  "
      ]
     },
     "execution_count": 258,
     "metadata": {},
     "output_type": "execute_result"
    }
   ],
   "source": [
    "fraud_data.head()"
   ]
  },
  {
   "cell_type": "code",
   "execution_count": 259,
   "metadata": {},
   "outputs": [
    {
     "name": "stdout",
     "output_type": "stream",
     "text": [
      "Numerical Columns: \n",
      "['user_id', 'purchase_value', 'age', 'ip_address', 'class']\n",
      "\n",
      "Numerical Columns: \n",
      "['signup_time', 'purchase_time', 'device_id', 'source', 'browser', 'sex']\n"
     ]
    }
   ],
   "source": [
    "numerical_features = list(fraud_data.select_dtypes('number'))\n",
    "categorical_features = list(fraud_data.select_dtypes('object'))\n",
    "\n",
    "print(f'Numerical Columns: \\n{numerical_features}\\n')\n",
    "print(f'Numerical Columns: \\n{categorical_features}')"
   ]
  },
  {
   "cell_type": "code",
   "execution_count": 260,
   "metadata": {},
   "outputs": [],
   "source": [
    "# Each row in the fraud dataset has a unique user_id\n",
    "\n",
    "# fraud_data.user_id.value_counts()"
   ]
  },
  {
   "cell_type": "code",
   "execution_count": 261,
   "metadata": {},
   "outputs": [],
   "source": [
    "# fraud_data.signup_time.value_counts()"
   ]
  },
  {
   "cell_type": "code",
   "execution_count": 262,
   "metadata": {},
   "outputs": [],
   "source": [
    "# fraud_data.purchase_time.value_counts()"
   ]
  },
  {
   "cell_type": "code",
   "execution_count": 263,
   "metadata": {},
   "outputs": [],
   "source": [
    "# fraud_data.purchase_value.value_counts()"
   ]
  },
  {
   "cell_type": "code",
   "execution_count": 264,
   "metadata": {},
   "outputs": [],
   "source": [
    "# fraud_data.device_id.value_counts()"
   ]
  },
  {
   "cell_type": "code",
   "execution_count": 265,
   "metadata": {},
   "outputs": [],
   "source": [
    "# fraud_data.source.value_counts()"
   ]
  },
  {
   "cell_type": "code",
   "execution_count": 266,
   "metadata": {},
   "outputs": [],
   "source": [
    "# fraud_data.browser.value_counts()"
   ]
  },
  {
   "cell_type": "code",
   "execution_count": 267,
   "metadata": {},
   "outputs": [],
   "source": [
    "# fraud_data.sex.value_counts()"
   ]
  },
  {
   "cell_type": "code",
   "execution_count": 268,
   "metadata": {},
   "outputs": [],
   "source": [
    "# fraud_data.age.value_counts()"
   ]
  },
  {
   "cell_type": "code",
   "execution_count": 269,
   "metadata": {},
   "outputs": [],
   "source": [
    "# fraud_data.ip_address.value_counts()"
   ]
  },
  {
   "cell_type": "code",
   "execution_count": 270,
   "metadata": {},
   "outputs": [],
   "source": [
    "# fraud_data['class'].value_counts()"
   ]
  },
  {
   "cell_type": "markdown",
   "metadata": {},
   "source": [
    "### Explore the IP Table data"
   ]
  },
  {
   "cell_type": "code",
   "execution_count": 271,
   "metadata": {},
   "outputs": [
    {
     "name": "stdout",
     "output_type": "stream",
     "text": [
      "<class 'pandas.core.frame.DataFrame'>\n",
      "RangeIndex: 138846 entries, 0 to 138845\n",
      "Data columns (total 3 columns):\n",
      " #   Column                  Non-Null Count   Dtype  \n",
      "---  ------                  --------------   -----  \n",
      " 0   lower_bound_ip_address  138846 non-null  float64\n",
      " 1   upper_bound_ip_address  138846 non-null  int64  \n",
      " 2   country                 138846 non-null  object \n",
      "dtypes: float64(1), int64(1), object(1)\n",
      "memory usage: 3.2+ MB\n"
     ]
    }
   ],
   "source": [
    "ip_table.info()"
   ]
  },
  {
   "cell_type": "code",
   "execution_count": 272,
   "metadata": {},
   "outputs": [
    {
     "data": {
      "text/html": [
       "<div>\n",
       "<style scoped>\n",
       "    .dataframe tbody tr th:only-of-type {\n",
       "        vertical-align: middle;\n",
       "    }\n",
       "\n",
       "    .dataframe tbody tr th {\n",
       "        vertical-align: top;\n",
       "    }\n",
       "\n",
       "    .dataframe thead th {\n",
       "        text-align: right;\n",
       "    }\n",
       "</style>\n",
       "<table border=\"1\" class=\"dataframe\">\n",
       "  <thead>\n",
       "    <tr style=\"text-align: right;\">\n",
       "      <th></th>\n",
       "      <th>lower_bound_ip_address</th>\n",
       "      <th>upper_bound_ip_address</th>\n",
       "    </tr>\n",
       "  </thead>\n",
       "  <tbody>\n",
       "    <tr>\n",
       "      <th>count</th>\n",
       "      <td>1.388460e+05</td>\n",
       "      <td>1.388460e+05</td>\n",
       "    </tr>\n",
       "    <tr>\n",
       "      <th>mean</th>\n",
       "      <td>2.724532e+09</td>\n",
       "      <td>2.724557e+09</td>\n",
       "    </tr>\n",
       "    <tr>\n",
       "      <th>std</th>\n",
       "      <td>8.975215e+08</td>\n",
       "      <td>8.974979e+08</td>\n",
       "    </tr>\n",
       "    <tr>\n",
       "      <th>min</th>\n",
       "      <td>1.677722e+07</td>\n",
       "      <td>1.677747e+07</td>\n",
       "    </tr>\n",
       "    <tr>\n",
       "      <th>25%</th>\n",
       "      <td>1.919930e+09</td>\n",
       "      <td>1.920008e+09</td>\n",
       "    </tr>\n",
       "    <tr>\n",
       "      <th>50%</th>\n",
       "      <td>3.230887e+09</td>\n",
       "      <td>3.230888e+09</td>\n",
       "    </tr>\n",
       "    <tr>\n",
       "      <th>75%</th>\n",
       "      <td>3.350465e+09</td>\n",
       "      <td>3.350466e+09</td>\n",
       "    </tr>\n",
       "    <tr>\n",
       "      <th>max</th>\n",
       "      <td>3.758096e+09</td>\n",
       "      <td>3.758096e+09</td>\n",
       "    </tr>\n",
       "  </tbody>\n",
       "</table>\n",
       "</div>"
      ],
      "text/plain": [
       "       lower_bound_ip_address  upper_bound_ip_address\n",
       "count            1.388460e+05            1.388460e+05\n",
       "mean             2.724532e+09            2.724557e+09\n",
       "std              8.975215e+08            8.974979e+08\n",
       "min              1.677722e+07            1.677747e+07\n",
       "25%              1.919930e+09            1.920008e+09\n",
       "50%              3.230887e+09            3.230888e+09\n",
       "75%              3.350465e+09            3.350466e+09\n",
       "max              3.758096e+09            3.758096e+09"
      ]
     },
     "execution_count": 272,
     "metadata": {},
     "output_type": "execute_result"
    }
   ],
   "source": [
    "ip_table.describe()"
   ]
  },
  {
   "cell_type": "code",
   "execution_count": 273,
   "metadata": {},
   "outputs": [
    {
     "data": {
      "text/plain": [
       "country                      235\n",
       "lower_bound_ip_address    138846\n",
       "upper_bound_ip_address    138846\n",
       "dtype: int64"
      ]
     },
     "execution_count": 273,
     "metadata": {},
     "output_type": "execute_result"
    }
   ],
   "source": [
    "ip_table.nunique().sort_values()"
   ]
  },
  {
   "cell_type": "code",
   "execution_count": 274,
   "metadata": {},
   "outputs": [
    {
     "data": {
      "text/html": [
       "<div>\n",
       "<style scoped>\n",
       "    .dataframe tbody tr th:only-of-type {\n",
       "        vertical-align: middle;\n",
       "    }\n",
       "\n",
       "    .dataframe tbody tr th {\n",
       "        vertical-align: top;\n",
       "    }\n",
       "\n",
       "    .dataframe thead th {\n",
       "        text-align: right;\n",
       "    }\n",
       "</style>\n",
       "<table border=\"1\" class=\"dataframe\">\n",
       "  <thead>\n",
       "    <tr style=\"text-align: right;\">\n",
       "      <th></th>\n",
       "      <th>lower_bound_ip_address</th>\n",
       "      <th>upper_bound_ip_address</th>\n",
       "      <th>country</th>\n",
       "    </tr>\n",
       "  </thead>\n",
       "  <tbody>\n",
       "    <tr>\n",
       "      <th>0</th>\n",
       "      <td>16777216.0</td>\n",
       "      <td>16777471</td>\n",
       "      <td>Australia</td>\n",
       "    </tr>\n",
       "    <tr>\n",
       "      <th>1</th>\n",
       "      <td>16777472.0</td>\n",
       "      <td>16777727</td>\n",
       "      <td>China</td>\n",
       "    </tr>\n",
       "    <tr>\n",
       "      <th>2</th>\n",
       "      <td>16777728.0</td>\n",
       "      <td>16778239</td>\n",
       "      <td>China</td>\n",
       "    </tr>\n",
       "    <tr>\n",
       "      <th>3</th>\n",
       "      <td>16778240.0</td>\n",
       "      <td>16779263</td>\n",
       "      <td>Australia</td>\n",
       "    </tr>\n",
       "    <tr>\n",
       "      <th>4</th>\n",
       "      <td>16779264.0</td>\n",
       "      <td>16781311</td>\n",
       "      <td>China</td>\n",
       "    </tr>\n",
       "  </tbody>\n",
       "</table>\n",
       "</div>"
      ],
      "text/plain": [
       "   lower_bound_ip_address  upper_bound_ip_address    country\n",
       "0              16777216.0                16777471  Australia\n",
       "1              16777472.0                16777727      China\n",
       "2              16777728.0                16778239      China\n",
       "3              16778240.0                16779263  Australia\n",
       "4              16779264.0                16781311      China"
      ]
     },
     "execution_count": 274,
     "metadata": {},
     "output_type": "execute_result"
    }
   ],
   "source": [
    "ip_table.head()"
   ]
  },
  {
   "cell_type": "code",
   "execution_count": 275,
   "metadata": {},
   "outputs": [],
   "source": [
    "# ip_table.lower_bound_ip_address.value_counts()"
   ]
  },
  {
   "cell_type": "code",
   "execution_count": 276,
   "metadata": {},
   "outputs": [],
   "source": [
    "# ip_table.upper_bound_ip_address.value_counts()"
   ]
  },
  {
   "cell_type": "code",
   "execution_count": 277,
   "metadata": {},
   "outputs": [],
   "source": [
    "# ip_table.country.value_counts()"
   ]
  },
  {
   "cell_type": "markdown",
   "metadata": {},
   "source": [
    "## Feature Engineering"
   ]
  },
  {
   "cell_type": "markdown",
   "metadata": {},
   "source": [
    "### Get the country related to each IP address"
   ]
  },
  {
   "cell_type": "code",
   "execution_count": 278,
   "metadata": {},
   "outputs": [
    {
     "data": {
      "text/plain": [
       "0         7.327584e+08\n",
       "1         3.503114e+08\n",
       "2         2.621474e+09\n",
       "3         3.840542e+09\n",
       "4         4.155831e+08\n",
       "              ...     \n",
       "151107    3.451155e+09\n",
       "151108    2.439047e+09\n",
       "151109    2.748471e+09\n",
       "151110    3.601175e+09\n",
       "151111    4.103825e+09\n",
       "Name: ip_address, Length: 151112, dtype: float64"
      ]
     },
     "execution_count": 278,
     "metadata": {},
     "output_type": "execute_result"
    }
   ],
   "source": [
    "ip_table.upper_bound_ip_address.astype('float')\n",
    "ip_table.lower_bound_ip_address.astype('float')\n",
    "fraud_data.ip_address.astype('float')"
   ]
  },
  {
   "cell_type": "code",
   "execution_count": 279,
   "metadata": {},
   "outputs": [],
   "source": [
    "# Create a function ip_to_country that takes an IP address as argument and returns the country associated based on the IP table\n",
    "\n",
    "# Create a function normalize_company_names to clean records in the Make column\n",
    "\n",
    "def ip_to_country(ip):\n",
    "    '''Takes in an IP address, checks against the lower and upper bound ip address for each country in the IP table\n",
    "        If the IP address falls within the range of a country, country name is returned.\n",
    "        If the IP address does not fall within the range of any country, 'Unknown' is returned.\n",
    "    '''\n",
    "    try :\n",
    "        return ip_table.country[(ip_table.lower_bound_ip_address < ip) & (ip_table.upper_bound_ip_address > ip)].iloc[0]\n",
    "    except IndexError :\n",
    "        return 'Unknown'   "
   ]
  },
  {
   "cell_type": "markdown",
   "metadata": {},
   "source": [
    "### Add a country column related to each IP address"
   ]
  },
  {
   "cell_type": "code",
   "execution_count": 280,
   "metadata": {},
   "outputs": [],
   "source": [
    "# Create a country column and find the country for each ip address using the ip_to_country function I created]:\n",
    "fraud_data['country'] = fraud_data.ip_address.apply(ip_to_country)"
   ]
  },
  {
   "cell_type": "code",
   "execution_count": 281,
   "metadata": {},
   "outputs": [
    {
     "name": "stdout",
     "output_type": "stream",
     "text": [
      "<class 'pandas.core.frame.DataFrame'>\n",
      "RangeIndex: 151112 entries, 0 to 151111\n",
      "Data columns (total 12 columns):\n",
      " #   Column          Non-Null Count   Dtype  \n",
      "---  ------          --------------   -----  \n",
      " 0   user_id         151112 non-null  int64  \n",
      " 1   signup_time     151112 non-null  object \n",
      " 2   purchase_time   151112 non-null  object \n",
      " 3   purchase_value  151112 non-null  int64  \n",
      " 4   device_id       151112 non-null  object \n",
      " 5   source          151112 non-null  object \n",
      " 6   browser         151112 non-null  object \n",
      " 7   sex             151112 non-null  object \n",
      " 8   age             151112 non-null  int64  \n",
      " 9   ip_address      151112 non-null  float64\n",
      " 10  class           151112 non-null  int64  \n",
      " 11  country         151112 non-null  object \n",
      "dtypes: float64(1), int64(4), object(7)\n",
      "memory usage: 13.8+ MB\n"
     ]
    }
   ],
   "source": [
    "fraud_data.info()"
   ]
  },
  {
   "cell_type": "code",
   "execution_count": 282,
   "metadata": {},
   "outputs": [
    {
     "data": {
      "text/html": [
       "<div>\n",
       "<style scoped>\n",
       "    .dataframe tbody tr th:only-of-type {\n",
       "        vertical-align: middle;\n",
       "    }\n",
       "\n",
       "    .dataframe tbody tr th {\n",
       "        vertical-align: top;\n",
       "    }\n",
       "\n",
       "    .dataframe thead th {\n",
       "        text-align: right;\n",
       "    }\n",
       "</style>\n",
       "<table border=\"1\" class=\"dataframe\">\n",
       "  <thead>\n",
       "    <tr style=\"text-align: right;\">\n",
       "      <th></th>\n",
       "      <th>user_id</th>\n",
       "      <th>signup_time</th>\n",
       "      <th>purchase_time</th>\n",
       "      <th>purchase_value</th>\n",
       "      <th>device_id</th>\n",
       "      <th>source</th>\n",
       "      <th>browser</th>\n",
       "      <th>sex</th>\n",
       "      <th>age</th>\n",
       "      <th>ip_address</th>\n",
       "      <th>class</th>\n",
       "      <th>country</th>\n",
       "    </tr>\n",
       "  </thead>\n",
       "  <tbody>\n",
       "    <tr>\n",
       "      <th>0</th>\n",
       "      <td>22058</td>\n",
       "      <td>2015-02-24 22:55:49</td>\n",
       "      <td>2015-04-18 02:47:11</td>\n",
       "      <td>34</td>\n",
       "      <td>QVPSPJUOCKZAR</td>\n",
       "      <td>SEO</td>\n",
       "      <td>Chrome</td>\n",
       "      <td>M</td>\n",
       "      <td>39</td>\n",
       "      <td>7.327584e+08</td>\n",
       "      <td>0</td>\n",
       "      <td>Japan</td>\n",
       "    </tr>\n",
       "    <tr>\n",
       "      <th>1</th>\n",
       "      <td>333320</td>\n",
       "      <td>2015-06-07 20:39:50</td>\n",
       "      <td>2015-06-08 01:38:54</td>\n",
       "      <td>16</td>\n",
       "      <td>EOGFQPIZPYXFZ</td>\n",
       "      <td>Ads</td>\n",
       "      <td>Chrome</td>\n",
       "      <td>F</td>\n",
       "      <td>53</td>\n",
       "      <td>3.503114e+08</td>\n",
       "      <td>0</td>\n",
       "      <td>United States</td>\n",
       "    </tr>\n",
       "    <tr>\n",
       "      <th>2</th>\n",
       "      <td>1359</td>\n",
       "      <td>2015-01-01 18:52:44</td>\n",
       "      <td>2015-01-01 18:52:45</td>\n",
       "      <td>15</td>\n",
       "      <td>YSSKYOSJHPPLJ</td>\n",
       "      <td>SEO</td>\n",
       "      <td>Opera</td>\n",
       "      <td>M</td>\n",
       "      <td>53</td>\n",
       "      <td>2.621474e+09</td>\n",
       "      <td>1</td>\n",
       "      <td>United States</td>\n",
       "    </tr>\n",
       "    <tr>\n",
       "      <th>3</th>\n",
       "      <td>150084</td>\n",
       "      <td>2015-04-28 21:13:25</td>\n",
       "      <td>2015-05-04 13:54:50</td>\n",
       "      <td>44</td>\n",
       "      <td>ATGTXKYKUDUQN</td>\n",
       "      <td>SEO</td>\n",
       "      <td>Safari</td>\n",
       "      <td>M</td>\n",
       "      <td>41</td>\n",
       "      <td>3.840542e+09</td>\n",
       "      <td>0</td>\n",
       "      <td>Unknown</td>\n",
       "    </tr>\n",
       "    <tr>\n",
       "      <th>4</th>\n",
       "      <td>221365</td>\n",
       "      <td>2015-07-21 07:09:52</td>\n",
       "      <td>2015-09-09 18:40:53</td>\n",
       "      <td>39</td>\n",
       "      <td>NAUITBZFJKHWW</td>\n",
       "      <td>Ads</td>\n",
       "      <td>Safari</td>\n",
       "      <td>M</td>\n",
       "      <td>45</td>\n",
       "      <td>4.155831e+08</td>\n",
       "      <td>0</td>\n",
       "      <td>United States</td>\n",
       "    </tr>\n",
       "  </tbody>\n",
       "</table>\n",
       "</div>"
      ],
      "text/plain": [
       "   user_id          signup_time        purchase_time  purchase_value  \\\n",
       "0    22058  2015-02-24 22:55:49  2015-04-18 02:47:11              34   \n",
       "1   333320  2015-06-07 20:39:50  2015-06-08 01:38:54              16   \n",
       "2     1359  2015-01-01 18:52:44  2015-01-01 18:52:45              15   \n",
       "3   150084  2015-04-28 21:13:25  2015-05-04 13:54:50              44   \n",
       "4   221365  2015-07-21 07:09:52  2015-09-09 18:40:53              39   \n",
       "\n",
       "       device_id source browser sex  age    ip_address  class        country  \n",
       "0  QVPSPJUOCKZAR    SEO  Chrome   M   39  7.327584e+08      0          Japan  \n",
       "1  EOGFQPIZPYXFZ    Ads  Chrome   F   53  3.503114e+08      0  United States  \n",
       "2  YSSKYOSJHPPLJ    SEO   Opera   M   53  2.621474e+09      1  United States  \n",
       "3  ATGTXKYKUDUQN    SEO  Safari   M   41  3.840542e+09      0        Unknown  \n",
       "4  NAUITBZFJKHWW    Ads  Safari   M   45  4.155831e+08      0  United States  "
      ]
     },
     "execution_count": 282,
     "metadata": {},
     "output_type": "execute_result"
    }
   ],
   "source": [
    "fraud_data.head()"
   ]
  },
  {
   "cell_type": "code",
   "execution_count": 283,
   "metadata": {},
   "outputs": [],
   "source": [
    "# fraud_data.country.value_counts()"
   ]
  },
  {
   "cell_type": "markdown",
   "metadata": {},
   "source": [
    "### Add a Countries from Device column that shows the count of countries in which a device made purchases"
   ]
  },
  {
   "cell_type": "code",
   "execution_count": 284,
   "metadata": {},
   "outputs": [],
   "source": [
    "# Create a dataframe that counts the occurrence of each country by device ID \n",
    "country_count = fraud_data.groupby(['device_id','country'])['user_id'].count().reset_index()\n",
    "\n",
    "# Count the number of different countries by device_id\n",
    "country_count = pd.DataFrame(country_count.groupby('device_id').count().country)\n",
    "\n",
    "# Merge the resulting country_count dataframe with the main fraud_data dataset \n",
    "fraud_data = fraud_data.merge(country_count, left_on='device_id', right_index=True)\n",
    "fraud_data.rename(columns={'country_x': 'country' , 'country_y':'countries_from_device'}, inplace = True)\n"
   ]
  },
  {
   "cell_type": "code",
   "execution_count": 285,
   "metadata": {},
   "outputs": [],
   "source": [
    "# fraud_data.countries_from_device.value_counts()"
   ]
  },
  {
   "cell_type": "markdown",
   "metadata": {},
   "source": [
    "### Add a Country Risk column that classifies each country by the level of fraud risk"
   ]
  },
  {
   "cell_type": "code",
   "execution_count": 286,
   "metadata": {},
   "outputs": [],
   "source": [
    "country_risk = pd.DataFrame(fraud_data.groupby('country')['class'].mean().sort_values(ascending = False))\n",
    "\n",
    "country_risk['country_risk'] = country_risk['class'].apply(lambda x : \n",
    "                                                           'Very High risk' if x > 0.25 else\n",
    "                                                           'High risk' if x > 0.05 else\n",
    "                                                           'Medium risk' if x > 0.01 else\n",
    "                                                           'Low risk')\n",
    "\n",
    "fraud_data = fraud_data.merge(country_risk.drop('class', axis = 1), left_on= 'country', right_index = True)                                                           "
   ]
  },
  {
   "cell_type": "code",
   "execution_count": 287,
   "metadata": {},
   "outputs": [],
   "source": [
    "# fraud_data.country_risk.value_counts()"
   ]
  },
  {
   "cell_type": "markdown",
   "metadata": {},
   "source": [
    "### Add an Age Group column that indicates the age range of the purchaser"
   ]
  },
  {
   "cell_type": "code",
   "execution_count": 288,
   "metadata": {},
   "outputs": [],
   "source": [
    "fraud_data['age_group'] = fraud_data.age.apply(lambda x : \n",
    "                 '< 40' if x < 40 else\n",
    "                 '40 - 49' if x < 50 else\n",
    "                 '50 - 59' if x < 60 else\n",
    "                 '60 - 69' if x < 70 else\n",
    "                 ' > 70')"
   ]
  },
  {
   "cell_type": "code",
   "execution_count": 289,
   "metadata": {},
   "outputs": [],
   "source": [
    "# fraud_data.age_group.value_counts()"
   ]
  },
  {
   "cell_type": "markdown",
   "metadata": {},
   "source": [
    "### Add a device frequency column related to the count of each device ID"
   ]
  },
  {
   "cell_type": "code",
   "execution_count": 290,
   "metadata": {},
   "outputs": [
    {
     "data": {
      "text/plain": [
       "device_id\n",
       "KIPFSCNUGOLDP    20\n",
       "NGQCKIADMZORL    20\n",
       "CQTUVBYIWWWBC    20\n",
       "ITUMJCKWEYNDD    20\n",
       "EQYVNEGOFLAWK    20\n",
       "                 ..\n",
       "IXVBQLPWSAIDA     1\n",
       "IXUYCZZVDXGPO     1\n",
       "IXUWTGATQJEVG     1\n",
       "IXUKDXQBVCYCZ     1\n",
       "ZZZXASJUVUNMV     1\n",
       "Name: device_id, Length: 137956, dtype: int64"
      ]
     },
     "execution_count": 290,
     "metadata": {},
     "output_type": "execute_result"
    }
   ],
   "source": [
    "fraud_data.groupby('device_id').device_id.count().sort_values(ascending=False)"
   ]
  },
  {
   "cell_type": "code",
   "execution_count": 291,
   "metadata": {},
   "outputs": [],
   "source": [
    "device_freq = pd.DataFrame(fraud_data.groupby('device_id').device_id.count())\n",
    "\n",
    "# Rename the count of device_id to device_freq so there is no duplicate column name\n",
    "device_freq.rename(columns={'device_id': 'device_freq'}, inplace=True)\n",
    "\n",
    "# Convert device_id from index to column so we can merge with the fraud_data dataset\n",
    "device_freq.reset_index(level=0, inplace= True)\n",
    "\n",
    "# Merge device_freq dataset with the fraud_data dataset\n",
    "fraud_data = fraud_data.merge(device_freq, on= 'device_id')\n"
   ]
  },
  {
   "cell_type": "code",
   "execution_count": 292,
   "metadata": {},
   "outputs": [
    {
     "data": {
      "text/html": [
       "<div>\n",
       "<style scoped>\n",
       "    .dataframe tbody tr th:only-of-type {\n",
       "        vertical-align: middle;\n",
       "    }\n",
       "\n",
       "    .dataframe tbody tr th {\n",
       "        vertical-align: top;\n",
       "    }\n",
       "\n",
       "    .dataframe thead th {\n",
       "        text-align: right;\n",
       "    }\n",
       "</style>\n",
       "<table border=\"1\" class=\"dataframe\">\n",
       "  <thead>\n",
       "    <tr style=\"text-align: right;\">\n",
       "      <th></th>\n",
       "      <th>user_id</th>\n",
       "      <th>signup_time</th>\n",
       "      <th>purchase_time</th>\n",
       "      <th>purchase_value</th>\n",
       "      <th>device_id</th>\n",
       "      <th>source</th>\n",
       "      <th>browser</th>\n",
       "      <th>sex</th>\n",
       "      <th>age</th>\n",
       "      <th>ip_address</th>\n",
       "      <th>class</th>\n",
       "      <th>country</th>\n",
       "      <th>countries_from_device</th>\n",
       "      <th>country_risk</th>\n",
       "      <th>age_group</th>\n",
       "      <th>device_freq</th>\n",
       "    </tr>\n",
       "  </thead>\n",
       "  <tbody>\n",
       "    <tr>\n",
       "      <th>0</th>\n",
       "      <td>22058</td>\n",
       "      <td>2015-02-24 22:55:49</td>\n",
       "      <td>2015-04-18 02:47:11</td>\n",
       "      <td>34</td>\n",
       "      <td>QVPSPJUOCKZAR</td>\n",
       "      <td>SEO</td>\n",
       "      <td>Chrome</td>\n",
       "      <td>M</td>\n",
       "      <td>39</td>\n",
       "      <td>7.327584e+08</td>\n",
       "      <td>0</td>\n",
       "      <td>Japan</td>\n",
       "      <td>1</td>\n",
       "      <td>High risk</td>\n",
       "      <td>&lt; 40</td>\n",
       "      <td>1</td>\n",
       "    </tr>\n",
       "    <tr>\n",
       "      <th>1</th>\n",
       "      <td>243817</td>\n",
       "      <td>2015-02-13 18:16:05</td>\n",
       "      <td>2015-04-23 17:44:27</td>\n",
       "      <td>72</td>\n",
       "      <td>YIIEFBZUGEXNR</td>\n",
       "      <td>Direct</td>\n",
       "      <td>Chrome</td>\n",
       "      <td>F</td>\n",
       "      <td>32</td>\n",
       "      <td>2.521871e+09</td>\n",
       "      <td>0</td>\n",
       "      <td>Japan</td>\n",
       "      <td>1</td>\n",
       "      <td>High risk</td>\n",
       "      <td>&lt; 40</td>\n",
       "      <td>1</td>\n",
       "    </tr>\n",
       "    <tr>\n",
       "      <th>2</th>\n",
       "      <td>81113</td>\n",
       "      <td>2015-08-16 12:56:45</td>\n",
       "      <td>2015-08-24 05:00:54</td>\n",
       "      <td>52</td>\n",
       "      <td>BKQVBSSFGETUQ</td>\n",
       "      <td>Direct</td>\n",
       "      <td>Chrome</td>\n",
       "      <td>F</td>\n",
       "      <td>44</td>\n",
       "      <td>3.682312e+09</td>\n",
       "      <td>0</td>\n",
       "      <td>Japan</td>\n",
       "      <td>1</td>\n",
       "      <td>High risk</td>\n",
       "      <td>40 - 49</td>\n",
       "      <td>1</td>\n",
       "    </tr>\n",
       "    <tr>\n",
       "      <th>3</th>\n",
       "      <td>103087</td>\n",
       "      <td>2015-01-04 13:22:11</td>\n",
       "      <td>2015-01-05 12:17:48</td>\n",
       "      <td>67</td>\n",
       "      <td>ZTORJKTDMYTJH</td>\n",
       "      <td>Direct</td>\n",
       "      <td>IE</td>\n",
       "      <td>F</td>\n",
       "      <td>49</td>\n",
       "      <td>3.665105e+09</td>\n",
       "      <td>0</td>\n",
       "      <td>Japan</td>\n",
       "      <td>2</td>\n",
       "      <td>High risk</td>\n",
       "      <td>40 - 49</td>\n",
       "      <td>2</td>\n",
       "    </tr>\n",
       "    <tr>\n",
       "      <th>4</th>\n",
       "      <td>192767</td>\n",
       "      <td>2015-01-08 12:17:12</td>\n",
       "      <td>2015-04-28 02:09:42</td>\n",
       "      <td>15</td>\n",
       "      <td>ZTORJKTDMYTJH</td>\n",
       "      <td>Ads</td>\n",
       "      <td>Safari</td>\n",
       "      <td>M</td>\n",
       "      <td>32</td>\n",
       "      <td>2.568640e+09</td>\n",
       "      <td>0</td>\n",
       "      <td>United States</td>\n",
       "      <td>2</td>\n",
       "      <td>High risk</td>\n",
       "      <td>&lt; 40</td>\n",
       "      <td>2</td>\n",
       "    </tr>\n",
       "  </tbody>\n",
       "</table>\n",
       "</div>"
      ],
      "text/plain": [
       "   user_id          signup_time        purchase_time  purchase_value  \\\n",
       "0    22058  2015-02-24 22:55:49  2015-04-18 02:47:11              34   \n",
       "1   243817  2015-02-13 18:16:05  2015-04-23 17:44:27              72   \n",
       "2    81113  2015-08-16 12:56:45  2015-08-24 05:00:54              52   \n",
       "3   103087  2015-01-04 13:22:11  2015-01-05 12:17:48              67   \n",
       "4   192767  2015-01-08 12:17:12  2015-04-28 02:09:42              15   \n",
       "\n",
       "       device_id  source browser sex  age    ip_address  class        country  \\\n",
       "0  QVPSPJUOCKZAR     SEO  Chrome   M   39  7.327584e+08      0          Japan   \n",
       "1  YIIEFBZUGEXNR  Direct  Chrome   F   32  2.521871e+09      0          Japan   \n",
       "2  BKQVBSSFGETUQ  Direct  Chrome   F   44  3.682312e+09      0          Japan   \n",
       "3  ZTORJKTDMYTJH  Direct      IE   F   49  3.665105e+09      0          Japan   \n",
       "4  ZTORJKTDMYTJH     Ads  Safari   M   32  2.568640e+09      0  United States   \n",
       "\n",
       "   countries_from_device country_risk age_group  device_freq  \n",
       "0                      1    High risk      < 40            1  \n",
       "1                      1    High risk      < 40            1  \n",
       "2                      1    High risk   40 - 49            1  \n",
       "3                      2    High risk   40 - 49            2  \n",
       "4                      2    High risk      < 40            2  "
      ]
     },
     "execution_count": 292,
     "metadata": {},
     "output_type": "execute_result"
    }
   ],
   "source": [
    "fraud_data.head()"
   ]
  },
  {
   "cell_type": "code",
   "execution_count": 293,
   "metadata": {},
   "outputs": [],
   "source": [
    "# fraud_data.device_freq.value_counts()"
   ]
  },
  {
   "cell_type": "code",
   "execution_count": 294,
   "metadata": {},
   "outputs": [
    {
     "data": {
      "text/plain": [
       "Text(0, 0.5, 'Distribution')"
      ]
     },
     "execution_count": 294,
     "metadata": {},
     "output_type": "execute_result"
    },
    {
     "data": {
      "image/png": "[encoded data removed]",
      "text/plain": [
       "<Figure size 864x432 with 2 Axes>"
      ]
     },
     "metadata": {
      "needs_background": "light"
     },
     "output_type": "display_data"
    }
   ],
   "source": [
    "f, ax = plt.subplots(1,2,figsize=(12,6))\n",
    "f.subplots_adjust(wspace=0.4)\n",
    "g1 =sns.histplot(fraud_data.device_freq[fraud_data.device_freq <4], ax=ax[0])\n",
    "g1.set(xticks=[1,2,3])\n",
    "ax[0].set_title('Less than Four')\n",
    "ax[0].set_xlabel('Device Frequency')\n",
    "ax[0].set_ylabel('Distribution')\n",
    "\n",
    "g2 =sns.histplot(fraud_data.device_freq[fraud_data.device_freq >2], ax=ax[1])\n",
    "g2.set(xticks = range(0,21,2))\n",
    "ax[1].set_title('Greater than Two')\n",
    "ax[1].set_xlabel('Device Frequency')\n",
    "ax[1].set_ylabel('Distribution')\n"
   ]
  },
  {
   "cell_type": "markdown",
   "metadata": {},
   "source": [
    "### Add an IP address frequency column related to the count of each IP address"
   ]
  },
  {
   "cell_type": "code",
   "execution_count": 295,
   "metadata": {},
   "outputs": [
    {
     "data": {
      "text/plain": [
       "ip_address\n",
       "1.502818e+09    20\n",
       "5.760609e+08    20\n",
       "3.874758e+09    20\n",
       "2.050964e+09    20\n",
       "2.937899e+09    19\n",
       "                ..\n",
       "1.427304e+09     1\n",
       "1.427303e+09     1\n",
       "1.427285e+09     1\n",
       "1.427208e+09     1\n",
       "4.294850e+09     1\n",
       "Name: ip_address, Length: 143512, dtype: int64"
      ]
     },
     "execution_count": 295,
     "metadata": {},
     "output_type": "execute_result"
    }
   ],
   "source": [
    "fraud_data.groupby('ip_address').ip_address.count().sort_values(ascending=False)"
   ]
  },
  {
   "cell_type": "code",
   "execution_count": 296,
   "metadata": {},
   "outputs": [],
   "source": [
    "ip_address_freq = pd.DataFrame(fraud_data.groupby('ip_address').ip_address.count())\n",
    "\n",
    "# Rename the count of ip_address to ip_address_freq so there is no duplicate column name\n",
    "ip_address_freq.rename(columns={'ip_address': 'ip_address_freq'}, inplace=True)\n",
    "\n",
    "# Convert ip_address from index to column so we can merge with the fraud_data dataset\n",
    "ip_address_freq.reset_index(level=0, inplace= True)\n",
    "\n",
    "# Merge ip_address_freq dataset with the fraud_data dataset\n",
    "fraud_data = fraud_data.merge(ip_address_freq, on= 'ip_address')"
   ]
  },
  {
   "cell_type": "code",
   "execution_count": 297,
   "metadata": {},
   "outputs": [
    {
     "data": {
      "text/html": [
       "<div>\n",
       "<style scoped>\n",
       "    .dataframe tbody tr th:only-of-type {\n",
       "        vertical-align: middle;\n",
       "    }\n",
       "\n",
       "    .dataframe tbody tr th {\n",
       "        vertical-align: top;\n",
       "    }\n",
       "\n",
       "    .dataframe thead th {\n",
       "        text-align: right;\n",
       "    }\n",
       "</style>\n",
       "<table border=\"1\" class=\"dataframe\">\n",
       "  <thead>\n",
       "    <tr style=\"text-align: right;\">\n",
       "      <th></th>\n",
       "      <th>user_id</th>\n",
       "      <th>signup_time</th>\n",
       "      <th>purchase_time</th>\n",
       "      <th>purchase_value</th>\n",
       "      <th>device_id</th>\n",
       "      <th>source</th>\n",
       "      <th>browser</th>\n",
       "      <th>sex</th>\n",
       "      <th>age</th>\n",
       "      <th>ip_address</th>\n",
       "      <th>class</th>\n",
       "      <th>country</th>\n",
       "      <th>countries_from_device</th>\n",
       "      <th>country_risk</th>\n",
       "      <th>age_group</th>\n",
       "      <th>device_freq</th>\n",
       "      <th>ip_address_freq</th>\n",
       "    </tr>\n",
       "  </thead>\n",
       "  <tbody>\n",
       "    <tr>\n",
       "      <th>0</th>\n",
       "      <td>22058</td>\n",
       "      <td>2015-02-24 22:55:49</td>\n",
       "      <td>2015-04-18 02:47:11</td>\n",
       "      <td>34</td>\n",
       "      <td>QVPSPJUOCKZAR</td>\n",
       "      <td>SEO</td>\n",
       "      <td>Chrome</td>\n",
       "      <td>M</td>\n",
       "      <td>39</td>\n",
       "      <td>7.327584e+08</td>\n",
       "      <td>0</td>\n",
       "      <td>Japan</td>\n",
       "      <td>1</td>\n",
       "      <td>High risk</td>\n",
       "      <td>&lt; 40</td>\n",
       "      <td>1</td>\n",
       "      <td>1</td>\n",
       "    </tr>\n",
       "    <tr>\n",
       "      <th>1</th>\n",
       "      <td>243817</td>\n",
       "      <td>2015-02-13 18:16:05</td>\n",
       "      <td>2015-04-23 17:44:27</td>\n",
       "      <td>72</td>\n",
       "      <td>YIIEFBZUGEXNR</td>\n",
       "      <td>Direct</td>\n",
       "      <td>Chrome</td>\n",
       "      <td>F</td>\n",
       "      <td>32</td>\n",
       "      <td>2.521871e+09</td>\n",
       "      <td>0</td>\n",
       "      <td>Japan</td>\n",
       "      <td>1</td>\n",
       "      <td>High risk</td>\n",
       "      <td>&lt; 40</td>\n",
       "      <td>1</td>\n",
       "      <td>1</td>\n",
       "    </tr>\n",
       "    <tr>\n",
       "      <th>2</th>\n",
       "      <td>81113</td>\n",
       "      <td>2015-08-16 12:56:45</td>\n",
       "      <td>2015-08-24 05:00:54</td>\n",
       "      <td>52</td>\n",
       "      <td>BKQVBSSFGETUQ</td>\n",
       "      <td>Direct</td>\n",
       "      <td>Chrome</td>\n",
       "      <td>F</td>\n",
       "      <td>44</td>\n",
       "      <td>3.682312e+09</td>\n",
       "      <td>0</td>\n",
       "      <td>Japan</td>\n",
       "      <td>1</td>\n",
       "      <td>High risk</td>\n",
       "      <td>40 - 49</td>\n",
       "      <td>1</td>\n",
       "      <td>1</td>\n",
       "    </tr>\n",
       "    <tr>\n",
       "      <th>3</th>\n",
       "      <td>103087</td>\n",
       "      <td>2015-01-04 13:22:11</td>\n",
       "      <td>2015-01-05 12:17:48</td>\n",
       "      <td>67</td>\n",
       "      <td>ZTORJKTDMYTJH</td>\n",
       "      <td>Direct</td>\n",
       "      <td>IE</td>\n",
       "      <td>F</td>\n",
       "      <td>49</td>\n",
       "      <td>3.665105e+09</td>\n",
       "      <td>0</td>\n",
       "      <td>Japan</td>\n",
       "      <td>2</td>\n",
       "      <td>High risk</td>\n",
       "      <td>40 - 49</td>\n",
       "      <td>2</td>\n",
       "      <td>1</td>\n",
       "    </tr>\n",
       "    <tr>\n",
       "      <th>4</th>\n",
       "      <td>192767</td>\n",
       "      <td>2015-01-08 12:17:12</td>\n",
       "      <td>2015-04-28 02:09:42</td>\n",
       "      <td>15</td>\n",
       "      <td>ZTORJKTDMYTJH</td>\n",
       "      <td>Ads</td>\n",
       "      <td>Safari</td>\n",
       "      <td>M</td>\n",
       "      <td>32</td>\n",
       "      <td>2.568640e+09</td>\n",
       "      <td>0</td>\n",
       "      <td>United States</td>\n",
       "      <td>2</td>\n",
       "      <td>High risk</td>\n",
       "      <td>&lt; 40</td>\n",
       "      <td>2</td>\n",
       "      <td>1</td>\n",
       "    </tr>\n",
       "  </tbody>\n",
       "</table>\n",
       "</div>"
      ],
      "text/plain": [
       "   user_id          signup_time        purchase_time  purchase_value  \\\n",
       "0    22058  2015-02-24 22:55:49  2015-04-18 02:47:11              34   \n",
       "1   243817  2015-02-13 18:16:05  2015-04-23 17:44:27              72   \n",
       "2    81113  2015-08-16 12:56:45  2015-08-24 05:00:54              52   \n",
       "3   103087  2015-01-04 13:22:11  2015-01-05 12:17:48              67   \n",
       "4   192767  2015-01-08 12:17:12  2015-04-28 02:09:42              15   \n",
       "\n",
       "       device_id  source browser sex  age    ip_address  class        country  \\\n",
       "0  QVPSPJUOCKZAR     SEO  Chrome   M   39  7.327584e+08      0          Japan   \n",
       "1  YIIEFBZUGEXNR  Direct  Chrome   F   32  2.521871e+09      0          Japan   \n",
       "2  BKQVBSSFGETUQ  Direct  Chrome   F   44  3.682312e+09      0          Japan   \n",
       "3  ZTORJKTDMYTJH  Direct      IE   F   49  3.665105e+09      0          Japan   \n",
       "4  ZTORJKTDMYTJH     Ads  Safari   M   32  2.568640e+09      0  United States   \n",
       "\n",
       "   countries_from_device country_risk age_group  device_freq  ip_address_freq  \n",
       "0                      1    High risk      < 40            1                1  \n",
       "1                      1    High risk      < 40            1                1  \n",
       "2                      1    High risk   40 - 49            1                1  \n",
       "3                      2    High risk   40 - 49            2                1  \n",
       "4                      2    High risk      < 40            2                1  "
      ]
     },
     "execution_count": 297,
     "metadata": {},
     "output_type": "execute_result"
    }
   ],
   "source": [
    "fraud_data.head()"
   ]
  },
  {
   "cell_type": "code",
   "execution_count": 298,
   "metadata": {},
   "outputs": [],
   "source": [
    "# fraud_data.ip_address_freq.value_counts()"
   ]
  },
  {
   "cell_type": "code",
   "execution_count": 299,
   "metadata": {},
   "outputs": [
    {
     "data": {
      "text/plain": [
       "Text(0, 0.5, 'Distribution')"
      ]
     },
     "execution_count": 299,
     "metadata": {},
     "output_type": "execute_result"
    },
    {
     "data": {
      "image/png": "[encoded data removed]",
      "text/plain": [
       "<Figure size 864x432 with 2 Axes>"
      ]
     },
     "metadata": {
      "needs_background": "light"
     },
     "output_type": "display_data"
    }
   ],
   "source": [
    "f, ax = plt.subplots(1,2,figsize=(12,6))\n",
    "f.subplots_adjust(wspace=0.4)\n",
    "g1 =sns.histplot(fraud_data.ip_address_freq[fraud_data.ip_address_freq <4], ax=ax[0])\n",
    "g1.set(xticks=[1,2,3])\n",
    "ax[0].set_title('Less than Four')\n",
    "ax[0].set_xlabel('IP Address Frequency')\n",
    "ax[0].set_ylabel('Distribution')\n",
    "\n",
    "g2 =sns.histplot(fraud_data.ip_address_freq[fraud_data.ip_address_freq >2], ax=ax[1])\n",
    "g2.set(xticks = range(0,21,2))\n",
    "ax[1].set_title('Greater than Two')\n",
    "ax[1].set_xlabel('IP Address Frequency')\n",
    "ax[1].set_ylabel('Distribution')"
   ]
  },
  {
   "cell_type": "code",
   "execution_count": 300,
   "metadata": {},
   "outputs": [
    {
     "data": {
      "text/html": [
       "<div>\n",
       "<style scoped>\n",
       "    .dataframe tbody tr th:only-of-type {\n",
       "        vertical-align: middle;\n",
       "    }\n",
       "\n",
       "    .dataframe tbody tr th {\n",
       "        vertical-align: top;\n",
       "    }\n",
       "\n",
       "    .dataframe thead th {\n",
       "        text-align: right;\n",
       "    }\n",
       "</style>\n",
       "<table border=\"1\" class=\"dataframe\">\n",
       "  <thead>\n",
       "    <tr style=\"text-align: right;\">\n",
       "      <th></th>\n",
       "      <th>user_id</th>\n",
       "      <th>signup_time</th>\n",
       "      <th>purchase_time</th>\n",
       "      <th>purchase_value</th>\n",
       "      <th>device_id</th>\n",
       "      <th>source</th>\n",
       "      <th>browser</th>\n",
       "      <th>sex</th>\n",
       "      <th>age</th>\n",
       "      <th>ip_address</th>\n",
       "      <th>class</th>\n",
       "      <th>country</th>\n",
       "      <th>countries_from_device</th>\n",
       "      <th>country_risk</th>\n",
       "      <th>age_group</th>\n",
       "      <th>device_freq</th>\n",
       "      <th>ip_address_freq</th>\n",
       "    </tr>\n",
       "  </thead>\n",
       "  <tbody>\n",
       "    <tr>\n",
       "      <th>3</th>\n",
       "      <td>103087</td>\n",
       "      <td>2015-01-04 13:22:11</td>\n",
       "      <td>2015-01-05 12:17:48</td>\n",
       "      <td>67</td>\n",
       "      <td>ZTORJKTDMYTJH</td>\n",
       "      <td>Direct</td>\n",
       "      <td>IE</td>\n",
       "      <td>F</td>\n",
       "      <td>49</td>\n",
       "      <td>3.665105e+09</td>\n",
       "      <td>0</td>\n",
       "      <td>Japan</td>\n",
       "      <td>2</td>\n",
       "      <td>High risk</td>\n",
       "      <td>40 - 49</td>\n",
       "      <td>2</td>\n",
       "      <td>1</td>\n",
       "    </tr>\n",
       "    <tr>\n",
       "      <th>4</th>\n",
       "      <td>192767</td>\n",
       "      <td>2015-01-08 12:17:12</td>\n",
       "      <td>2015-04-28 02:09:42</td>\n",
       "      <td>15</td>\n",
       "      <td>ZTORJKTDMYTJH</td>\n",
       "      <td>Ads</td>\n",
       "      <td>Safari</td>\n",
       "      <td>M</td>\n",
       "      <td>32</td>\n",
       "      <td>2.568640e+09</td>\n",
       "      <td>0</td>\n",
       "      <td>United States</td>\n",
       "      <td>2</td>\n",
       "      <td>High risk</td>\n",
       "      <td>&lt; 40</td>\n",
       "      <td>2</td>\n",
       "      <td>1</td>\n",
       "    </tr>\n",
       "    <tr>\n",
       "      <th>5</th>\n",
       "      <td>83866</td>\n",
       "      <td>2015-07-13 11:14:18</td>\n",
       "      <td>2015-09-20 08:18:30</td>\n",
       "      <td>33</td>\n",
       "      <td>JQYCFABXAMQVP</td>\n",
       "      <td>SEO</td>\n",
       "      <td>Chrome</td>\n",
       "      <td>F</td>\n",
       "      <td>34</td>\n",
       "      <td>7.359961e+08</td>\n",
       "      <td>0</td>\n",
       "      <td>Japan</td>\n",
       "      <td>2</td>\n",
       "      <td>High risk</td>\n",
       "      <td>&lt; 40</td>\n",
       "      <td>2</td>\n",
       "      <td>1</td>\n",
       "    </tr>\n",
       "    <tr>\n",
       "      <th>6</th>\n",
       "      <td>366068</td>\n",
       "      <td>2015-05-14 04:54:06</td>\n",
       "      <td>2015-07-11 03:24:56</td>\n",
       "      <td>69</td>\n",
       "      <td>JQYCFABXAMQVP</td>\n",
       "      <td>Direct</td>\n",
       "      <td>Chrome</td>\n",
       "      <td>M</td>\n",
       "      <td>31</td>\n",
       "      <td>3.463947e+09</td>\n",
       "      <td>0</td>\n",
       "      <td>United States</td>\n",
       "      <td>2</td>\n",
       "      <td>High risk</td>\n",
       "      <td>&lt; 40</td>\n",
       "      <td>2</td>\n",
       "      <td>1</td>\n",
       "    </tr>\n",
       "    <tr>\n",
       "      <th>8</th>\n",
       "      <td>135536</td>\n",
       "      <td>2015-05-03 22:40:07</td>\n",
       "      <td>2015-07-18 15:43:38</td>\n",
       "      <td>32</td>\n",
       "      <td>ITRXCOXKEQTAM</td>\n",
       "      <td>SEO</td>\n",
       "      <td>FireFox</td>\n",
       "      <td>M</td>\n",
       "      <td>37</td>\n",
       "      <td>2.097968e+09</td>\n",
       "      <td>0</td>\n",
       "      <td>Japan</td>\n",
       "      <td>2</td>\n",
       "      <td>High risk</td>\n",
       "      <td>&lt; 40</td>\n",
       "      <td>2</td>\n",
       "      <td>1</td>\n",
       "    </tr>\n",
       "    <tr>\n",
       "      <th>...</th>\n",
       "      <td>...</td>\n",
       "      <td>...</td>\n",
       "      <td>...</td>\n",
       "      <td>...</td>\n",
       "      <td>...</td>\n",
       "      <td>...</td>\n",
       "      <td>...</td>\n",
       "      <td>...</td>\n",
       "      <td>...</td>\n",
       "      <td>...</td>\n",
       "      <td>...</td>\n",
       "      <td>...</td>\n",
       "      <td>...</td>\n",
       "      <td>...</td>\n",
       "      <td>...</td>\n",
       "      <td>...</td>\n",
       "      <td>...</td>\n",
       "    </tr>\n",
       "    <tr>\n",
       "      <th>147699</th>\n",
       "      <td>117273</td>\n",
       "      <td>2015-01-26 19:33:36</td>\n",
       "      <td>2015-03-27 23:30:39</td>\n",
       "      <td>22</td>\n",
       "      <td>KOJFCKWQDVVEH</td>\n",
       "      <td>SEO</td>\n",
       "      <td>IE</td>\n",
       "      <td>M</td>\n",
       "      <td>42</td>\n",
       "      <td>3.035673e+09</td>\n",
       "      <td>0</td>\n",
       "      <td>Singapore</td>\n",
       "      <td>2</td>\n",
       "      <td>High risk</td>\n",
       "      <td>40 - 49</td>\n",
       "      <td>2</td>\n",
       "      <td>1</td>\n",
       "    </tr>\n",
       "    <tr>\n",
       "      <th>148522</th>\n",
       "      <td>122957</td>\n",
       "      <td>2015-05-08 23:21:35</td>\n",
       "      <td>2015-05-26 01:28:24</td>\n",
       "      <td>59</td>\n",
       "      <td>ELZOBQQBWGXFB</td>\n",
       "      <td>SEO</td>\n",
       "      <td>IE</td>\n",
       "      <td>F</td>\n",
       "      <td>30</td>\n",
       "      <td>2.662716e+09</td>\n",
       "      <td>0</td>\n",
       "      <td>Kyrgyzstan</td>\n",
       "      <td>2</td>\n",
       "      <td>Low risk</td>\n",
       "      <td>&lt; 40</td>\n",
       "      <td>2</td>\n",
       "      <td>1</td>\n",
       "    </tr>\n",
       "    <tr>\n",
       "      <th>148523</th>\n",
       "      <td>288005</td>\n",
       "      <td>2015-06-09 17:52:14</td>\n",
       "      <td>2015-07-06 07:20:29</td>\n",
       "      <td>9</td>\n",
       "      <td>ELZOBQQBWGXFB</td>\n",
       "      <td>Ads</td>\n",
       "      <td>FireFox</td>\n",
       "      <td>F</td>\n",
       "      <td>18</td>\n",
       "      <td>1.941611e+09</td>\n",
       "      <td>0</td>\n",
       "      <td>Pakistan</td>\n",
       "      <td>2</td>\n",
       "      <td>Medium risk</td>\n",
       "      <td>&lt; 40</td>\n",
       "      <td>2</td>\n",
       "      <td>1</td>\n",
       "    </tr>\n",
       "    <tr>\n",
       "      <th>149663</th>\n",
       "      <td>180813</td>\n",
       "      <td>2015-05-10 20:17:06</td>\n",
       "      <td>2015-08-19 14:57:09</td>\n",
       "      <td>54</td>\n",
       "      <td>MRFQINZDKDSUW</td>\n",
       "      <td>Ads</td>\n",
       "      <td>Chrome</td>\n",
       "      <td>F</td>\n",
       "      <td>38</td>\n",
       "      <td>3.158383e+09</td>\n",
       "      <td>0</td>\n",
       "      <td>Oman</td>\n",
       "      <td>2</td>\n",
       "      <td>Low risk</td>\n",
       "      <td>&lt; 40</td>\n",
       "      <td>2</td>\n",
       "      <td>1</td>\n",
       "    </tr>\n",
       "    <tr>\n",
       "      <th>149664</th>\n",
       "      <td>262676</td>\n",
       "      <td>2015-01-23 17:12:52</td>\n",
       "      <td>2015-03-29 02:24:49</td>\n",
       "      <td>39</td>\n",
       "      <td>MRFQINZDKDSUW</td>\n",
       "      <td>SEO</td>\n",
       "      <td>IE</td>\n",
       "      <td>M</td>\n",
       "      <td>28</td>\n",
       "      <td>2.078737e+09</td>\n",
       "      <td>1</td>\n",
       "      <td>Sri Lanka</td>\n",
       "      <td>2</td>\n",
       "      <td>Very High risk</td>\n",
       "      <td>&lt; 40</td>\n",
       "      <td>2</td>\n",
       "      <td>1</td>\n",
       "    </tr>\n",
       "  </tbody>\n",
       "</table>\n",
       "<p>11529 rows × 17 columns</p>\n",
       "</div>"
      ],
      "text/plain": [
       "        user_id          signup_time        purchase_time  purchase_value  \\\n",
       "3        103087  2015-01-04 13:22:11  2015-01-05 12:17:48              67   \n",
       "4        192767  2015-01-08 12:17:12  2015-04-28 02:09:42              15   \n",
       "5         83866  2015-07-13 11:14:18  2015-09-20 08:18:30              33   \n",
       "6        366068  2015-05-14 04:54:06  2015-07-11 03:24:56              69   \n",
       "8        135536  2015-05-03 22:40:07  2015-07-18 15:43:38              32   \n",
       "...         ...                  ...                  ...             ...   \n",
       "147699   117273  2015-01-26 19:33:36  2015-03-27 23:30:39              22   \n",
       "148522   122957  2015-05-08 23:21:35  2015-05-26 01:28:24              59   \n",
       "148523   288005  2015-06-09 17:52:14  2015-07-06 07:20:29               9   \n",
       "149663   180813  2015-05-10 20:17:06  2015-08-19 14:57:09              54   \n",
       "149664   262676  2015-01-23 17:12:52  2015-03-29 02:24:49              39   \n",
       "\n",
       "            device_id  source  browser sex  age    ip_address  class  \\\n",
       "3       ZTORJKTDMYTJH  Direct       IE   F   49  3.665105e+09      0   \n",
       "4       ZTORJKTDMYTJH     Ads   Safari   M   32  2.568640e+09      0   \n",
       "5       JQYCFABXAMQVP     SEO   Chrome   F   34  7.359961e+08      0   \n",
       "6       JQYCFABXAMQVP  Direct   Chrome   M   31  3.463947e+09      0   \n",
       "8       ITRXCOXKEQTAM     SEO  FireFox   M   37  2.097968e+09      0   \n",
       "...               ...     ...      ...  ..  ...           ...    ...   \n",
       "147699  KOJFCKWQDVVEH     SEO       IE   M   42  3.035673e+09      0   \n",
       "148522  ELZOBQQBWGXFB     SEO       IE   F   30  2.662716e+09      0   \n",
       "148523  ELZOBQQBWGXFB     Ads  FireFox   F   18  1.941611e+09      0   \n",
       "149663  MRFQINZDKDSUW     Ads   Chrome   F   38  3.158383e+09      0   \n",
       "149664  MRFQINZDKDSUW     SEO       IE   M   28  2.078737e+09      1   \n",
       "\n",
       "              country  countries_from_device    country_risk age_group  \\\n",
       "3               Japan                      2       High risk   40 - 49   \n",
       "4       United States                      2       High risk      < 40   \n",
       "5               Japan                      2       High risk      < 40   \n",
       "6       United States                      2       High risk      < 40   \n",
       "8               Japan                      2       High risk      < 40   \n",
       "...               ...                    ...             ...       ...   \n",
       "147699      Singapore                      2       High risk   40 - 49   \n",
       "148522     Kyrgyzstan                      2        Low risk      < 40   \n",
       "148523       Pakistan                      2     Medium risk      < 40   \n",
       "149663           Oman                      2        Low risk      < 40   \n",
       "149664      Sri Lanka                      2  Very High risk      < 40   \n",
       "\n",
       "        device_freq  ip_address_freq  \n",
       "3                 2                1  \n",
       "4                 2                1  \n",
       "5                 2                1  \n",
       "6                 2                1  \n",
       "8                 2                1  \n",
       "...             ...              ...  \n",
       "147699            2                1  \n",
       "148522            2                1  \n",
       "148523            2                1  \n",
       "149663            2                1  \n",
       "149664            2                1  \n",
       "\n",
       "[11529 rows x 17 columns]"
      ]
     },
     "execution_count": 300,
     "metadata": {},
     "output_type": "execute_result"
    }
   ],
   "source": [
    "# Sometimes the same device uses a different IP address\n",
    "\n",
    "fraud_data.loc[fraud_data['device_freq'] != fraud_data['ip_address_freq']]"
   ]
  },
  {
   "cell_type": "markdown",
   "metadata": {},
   "source": [
    "### Add a same_purchase_freq column that groups how many times the same device purchased an item with the same value"
   ]
  },
  {
   "cell_type": "code",
   "execution_count": 301,
   "metadata": {},
   "outputs": [],
   "source": [
    "#  Create a series that indicates, for each line, if the device_id and purchase_value combination has duplicates\n",
    "duplicate = fraud_data.duplicated(subset = ['purchase_value','device_id'], keep = False)\n",
    "# Merge the series with a dataframe containing purchase_value and device_id\n",
    "duplicate = pd.concat([fraud_data.loc[:,['purchase_value','device_id']], duplicate],axis=1)\n",
    "# Create a dataframe that shows the number of duplicates for each device_id and purchase_value combination\n",
    "duplicate = duplicate.groupby(['device_id','purchase_value']).sum()\n",
    "# Add a same_purchase_freq column that groups the duplicate count of each device_id and purchase_value combination\n",
    "duplicate['same_purchase_freq'] = duplicate[0].apply(lambda x : \n",
    "                                                str(x) if x < 5 else\n",
    "                                                '5-10' if x<=10 else\n",
    "                                                '11-15' if x<= 15 else\n",
    "                                                '>15' \n",
    "                                               )\n",
    "                                            \n",
    "# Merge the resulting duplicate dataframe with the main fraud_data dataset            \n",
    "fraud_data = fraud_data.merge(duplicate.drop(0,axis=1), left_on=['device_id','purchase_value'], right_index = True)"
   ]
  },
  {
   "cell_type": "code",
   "execution_count": 302,
   "metadata": {},
   "outputs": [
    {
     "data": {
      "text/html": [
       "<div>\n",
       "<style scoped>\n",
       "    .dataframe tbody tr th:only-of-type {\n",
       "        vertical-align: middle;\n",
       "    }\n",
       "\n",
       "    .dataframe tbody tr th {\n",
       "        vertical-align: top;\n",
       "    }\n",
       "\n",
       "    .dataframe thead th {\n",
       "        text-align: right;\n",
       "    }\n",
       "</style>\n",
       "<table border=\"1\" class=\"dataframe\">\n",
       "  <thead>\n",
       "    <tr style=\"text-align: right;\">\n",
       "      <th></th>\n",
       "      <th>user_id</th>\n",
       "      <th>signup_time</th>\n",
       "      <th>purchase_time</th>\n",
       "      <th>purchase_value</th>\n",
       "      <th>device_id</th>\n",
       "      <th>source</th>\n",
       "      <th>browser</th>\n",
       "      <th>sex</th>\n",
       "      <th>age</th>\n",
       "      <th>ip_address</th>\n",
       "      <th>class</th>\n",
       "      <th>country</th>\n",
       "      <th>countries_from_device</th>\n",
       "      <th>country_risk</th>\n",
       "      <th>age_group</th>\n",
       "      <th>device_freq</th>\n",
       "      <th>ip_address_freq</th>\n",
       "      <th>same_purchase_freq</th>\n",
       "    </tr>\n",
       "  </thead>\n",
       "  <tbody>\n",
       "    <tr>\n",
       "      <th>0</th>\n",
       "      <td>22058</td>\n",
       "      <td>2015-02-24 22:55:49</td>\n",
       "      <td>2015-04-18 02:47:11</td>\n",
       "      <td>34</td>\n",
       "      <td>QVPSPJUOCKZAR</td>\n",
       "      <td>SEO</td>\n",
       "      <td>Chrome</td>\n",
       "      <td>M</td>\n",
       "      <td>39</td>\n",
       "      <td>7.327584e+08</td>\n",
       "      <td>0</td>\n",
       "      <td>Japan</td>\n",
       "      <td>1</td>\n",
       "      <td>High risk</td>\n",
       "      <td>&lt; 40</td>\n",
       "      <td>1</td>\n",
       "      <td>1</td>\n",
       "      <td>0</td>\n",
       "    </tr>\n",
       "    <tr>\n",
       "      <th>1</th>\n",
       "      <td>243817</td>\n",
       "      <td>2015-02-13 18:16:05</td>\n",
       "      <td>2015-04-23 17:44:27</td>\n",
       "      <td>72</td>\n",
       "      <td>YIIEFBZUGEXNR</td>\n",
       "      <td>Direct</td>\n",
       "      <td>Chrome</td>\n",
       "      <td>F</td>\n",
       "      <td>32</td>\n",
       "      <td>2.521871e+09</td>\n",
       "      <td>0</td>\n",
       "      <td>Japan</td>\n",
       "      <td>1</td>\n",
       "      <td>High risk</td>\n",
       "      <td>&lt; 40</td>\n",
       "      <td>1</td>\n",
       "      <td>1</td>\n",
       "      <td>0</td>\n",
       "    </tr>\n",
       "    <tr>\n",
       "      <th>2</th>\n",
       "      <td>81113</td>\n",
       "      <td>2015-08-16 12:56:45</td>\n",
       "      <td>2015-08-24 05:00:54</td>\n",
       "      <td>52</td>\n",
       "      <td>BKQVBSSFGETUQ</td>\n",
       "      <td>Direct</td>\n",
       "      <td>Chrome</td>\n",
       "      <td>F</td>\n",
       "      <td>44</td>\n",
       "      <td>3.682312e+09</td>\n",
       "      <td>0</td>\n",
       "      <td>Japan</td>\n",
       "      <td>1</td>\n",
       "      <td>High risk</td>\n",
       "      <td>40 - 49</td>\n",
       "      <td>1</td>\n",
       "      <td>1</td>\n",
       "      <td>0</td>\n",
       "    </tr>\n",
       "    <tr>\n",
       "      <th>3</th>\n",
       "      <td>103087</td>\n",
       "      <td>2015-01-04 13:22:11</td>\n",
       "      <td>2015-01-05 12:17:48</td>\n",
       "      <td>67</td>\n",
       "      <td>ZTORJKTDMYTJH</td>\n",
       "      <td>Direct</td>\n",
       "      <td>IE</td>\n",
       "      <td>F</td>\n",
       "      <td>49</td>\n",
       "      <td>3.665105e+09</td>\n",
       "      <td>0</td>\n",
       "      <td>Japan</td>\n",
       "      <td>2</td>\n",
       "      <td>High risk</td>\n",
       "      <td>40 - 49</td>\n",
       "      <td>2</td>\n",
       "      <td>1</td>\n",
       "      <td>0</td>\n",
       "    </tr>\n",
       "    <tr>\n",
       "      <th>4</th>\n",
       "      <td>192767</td>\n",
       "      <td>2015-01-08 12:17:12</td>\n",
       "      <td>2015-04-28 02:09:42</td>\n",
       "      <td>15</td>\n",
       "      <td>ZTORJKTDMYTJH</td>\n",
       "      <td>Ads</td>\n",
       "      <td>Safari</td>\n",
       "      <td>M</td>\n",
       "      <td>32</td>\n",
       "      <td>2.568640e+09</td>\n",
       "      <td>0</td>\n",
       "      <td>United States</td>\n",
       "      <td>2</td>\n",
       "      <td>High risk</td>\n",
       "      <td>&lt; 40</td>\n",
       "      <td>2</td>\n",
       "      <td>1</td>\n",
       "      <td>0</td>\n",
       "    </tr>\n",
       "  </tbody>\n",
       "</table>\n",
       "</div>"
      ],
      "text/plain": [
       "   user_id          signup_time        purchase_time  purchase_value  \\\n",
       "0    22058  2015-02-24 22:55:49  2015-04-18 02:47:11              34   \n",
       "1   243817  2015-02-13 18:16:05  2015-04-23 17:44:27              72   \n",
       "2    81113  2015-08-16 12:56:45  2015-08-24 05:00:54              52   \n",
       "3   103087  2015-01-04 13:22:11  2015-01-05 12:17:48              67   \n",
       "4   192767  2015-01-08 12:17:12  2015-04-28 02:09:42              15   \n",
       "\n",
       "       device_id  source browser sex  age    ip_address  class        country  \\\n",
       "0  QVPSPJUOCKZAR     SEO  Chrome   M   39  7.327584e+08      0          Japan   \n",
       "1  YIIEFBZUGEXNR  Direct  Chrome   F   32  2.521871e+09      0          Japan   \n",
       "2  BKQVBSSFGETUQ  Direct  Chrome   F   44  3.682312e+09      0          Japan   \n",
       "3  ZTORJKTDMYTJH  Direct      IE   F   49  3.665105e+09      0          Japan   \n",
       "4  ZTORJKTDMYTJH     Ads  Safari   M   32  2.568640e+09      0  United States   \n",
       "\n",
       "   countries_from_device country_risk age_group  device_freq  ip_address_freq  \\\n",
       "0                      1    High risk      < 40            1                1   \n",
       "1                      1    High risk      < 40            1                1   \n",
       "2                      1    High risk   40 - 49            1                1   \n",
       "3                      2    High risk   40 - 49            2                1   \n",
       "4                      2    High risk      < 40            2                1   \n",
       "\n",
       "  same_purchase_freq  \n",
       "0                  0  \n",
       "1                  0  \n",
       "2                  0  \n",
       "3                  0  \n",
       "4                  0  "
      ]
     },
     "execution_count": 302,
     "metadata": {},
     "output_type": "execute_result"
    }
   ],
   "source": [
    "fraud_data.head()"
   ]
  },
  {
   "cell_type": "code",
   "execution_count": 303,
   "metadata": {},
   "outputs": [],
   "source": [
    "# fraud_data.same_purchase_freq.value_counts()"
   ]
  },
  {
   "cell_type": "markdown",
   "metadata": {},
   "source": [
    "### Add columns related to the date and time of day"
   ]
  },
  {
   "cell_type": "code",
   "execution_count": 304,
   "metadata": {},
   "outputs": [],
   "source": [
    "fraud_data.signup_time = pd.to_datetime(fraud_data.signup_time, format = '%Y-%m-%d %H:%M:%S')\n",
    "fraud_data.purchase_time = pd.to_datetime(fraud_data.purchase_time, format = '%Y-%m-%d %H:%M:%S')\n",
    "\n",
    "# Add a 'month of purchase' column\n",
    "fraud_data['purchase_month'] = fraud_data.purchase_time.apply(lambda x: calendar.month_name[x.month])\n",
    "\n",
    "# Add a 'week of purchase' column\n",
    "fraud_data['purchase_weekday'] = fraud_data.purchase_time.apply(lambda x: calendar.day_name[x.weekday()])\n",
    "\n",
    "# Add an 'hour of purchase' column\n",
    "fraud_data['purchase_hour'] = fraud_data.purchase_time.apply(lambda x: x.hour)\n",
    "\n",
    "# Add a 'seconds since signup'\n",
    "fraud_data['seconds_since_signup']= (fraud_data.purchase_time - fraud_data.signup_time).apply(lambda x : x.total_seconds())"
   ]
  },
  {
   "cell_type": "code",
   "execution_count": 305,
   "metadata": {},
   "outputs": [
    {
     "data": {
      "text/html": [
       "<div>\n",
       "<style scoped>\n",
       "    .dataframe tbody tr th:only-of-type {\n",
       "        vertical-align: middle;\n",
       "    }\n",
       "\n",
       "    .dataframe tbody tr th {\n",
       "        vertical-align: top;\n",
       "    }\n",
       "\n",
       "    .dataframe thead th {\n",
       "        text-align: right;\n",
       "    }\n",
       "</style>\n",
       "<table border=\"1\" class=\"dataframe\">\n",
       "  <thead>\n",
       "    <tr style=\"text-align: right;\">\n",
       "      <th></th>\n",
       "      <th>user_id</th>\n",
       "      <th>signup_time</th>\n",
       "      <th>purchase_time</th>\n",
       "      <th>purchase_value</th>\n",
       "      <th>device_id</th>\n",
       "      <th>source</th>\n",
       "      <th>browser</th>\n",
       "      <th>sex</th>\n",
       "      <th>age</th>\n",
       "      <th>ip_address</th>\n",
       "      <th>...</th>\n",
       "      <th>countries_from_device</th>\n",
       "      <th>country_risk</th>\n",
       "      <th>age_group</th>\n",
       "      <th>device_freq</th>\n",
       "      <th>ip_address_freq</th>\n",
       "      <th>same_purchase_freq</th>\n",
       "      <th>purchase_month</th>\n",
       "      <th>purchase_weekday</th>\n",
       "      <th>purchase_hour</th>\n",
       "      <th>seconds_since_signup</th>\n",
       "    </tr>\n",
       "  </thead>\n",
       "  <tbody>\n",
       "    <tr>\n",
       "      <th>0</th>\n",
       "      <td>22058</td>\n",
       "      <td>2015-02-24 22:55:49</td>\n",
       "      <td>2015-04-18 02:47:11</td>\n",
       "      <td>34</td>\n",
       "      <td>QVPSPJUOCKZAR</td>\n",
       "      <td>SEO</td>\n",
       "      <td>Chrome</td>\n",
       "      <td>M</td>\n",
       "      <td>39</td>\n",
       "      <td>7.327584e+08</td>\n",
       "      <td>...</td>\n",
       "      <td>1</td>\n",
       "      <td>High risk</td>\n",
       "      <td>&lt; 40</td>\n",
       "      <td>1</td>\n",
       "      <td>1</td>\n",
       "      <td>0</td>\n",
       "      <td>April</td>\n",
       "      <td>Saturday</td>\n",
       "      <td>2</td>\n",
       "      <td>4506682.0</td>\n",
       "    </tr>\n",
       "    <tr>\n",
       "      <th>1</th>\n",
       "      <td>243817</td>\n",
       "      <td>2015-02-13 18:16:05</td>\n",
       "      <td>2015-04-23 17:44:27</td>\n",
       "      <td>72</td>\n",
       "      <td>YIIEFBZUGEXNR</td>\n",
       "      <td>Direct</td>\n",
       "      <td>Chrome</td>\n",
       "      <td>F</td>\n",
       "      <td>32</td>\n",
       "      <td>2.521871e+09</td>\n",
       "      <td>...</td>\n",
       "      <td>1</td>\n",
       "      <td>High risk</td>\n",
       "      <td>&lt; 40</td>\n",
       "      <td>1</td>\n",
       "      <td>1</td>\n",
       "      <td>0</td>\n",
       "      <td>April</td>\n",
       "      <td>Thursday</td>\n",
       "      <td>17</td>\n",
       "      <td>5959702.0</td>\n",
       "    </tr>\n",
       "    <tr>\n",
       "      <th>2</th>\n",
       "      <td>81113</td>\n",
       "      <td>2015-08-16 12:56:45</td>\n",
       "      <td>2015-08-24 05:00:54</td>\n",
       "      <td>52</td>\n",
       "      <td>BKQVBSSFGETUQ</td>\n",
       "      <td>Direct</td>\n",
       "      <td>Chrome</td>\n",
       "      <td>F</td>\n",
       "      <td>44</td>\n",
       "      <td>3.682312e+09</td>\n",
       "      <td>...</td>\n",
       "      <td>1</td>\n",
       "      <td>High risk</td>\n",
       "      <td>40 - 49</td>\n",
       "      <td>1</td>\n",
       "      <td>1</td>\n",
       "      <td>0</td>\n",
       "      <td>August</td>\n",
       "      <td>Monday</td>\n",
       "      <td>5</td>\n",
       "      <td>662649.0</td>\n",
       "    </tr>\n",
       "    <tr>\n",
       "      <th>3</th>\n",
       "      <td>103087</td>\n",
       "      <td>2015-01-04 13:22:11</td>\n",
       "      <td>2015-01-05 12:17:48</td>\n",
       "      <td>67</td>\n",
       "      <td>ZTORJKTDMYTJH</td>\n",
       "      <td>Direct</td>\n",
       "      <td>IE</td>\n",
       "      <td>F</td>\n",
       "      <td>49</td>\n",
       "      <td>3.665105e+09</td>\n",
       "      <td>...</td>\n",
       "      <td>2</td>\n",
       "      <td>High risk</td>\n",
       "      <td>40 - 49</td>\n",
       "      <td>2</td>\n",
       "      <td>1</td>\n",
       "      <td>0</td>\n",
       "      <td>January</td>\n",
       "      <td>Monday</td>\n",
       "      <td>12</td>\n",
       "      <td>82537.0</td>\n",
       "    </tr>\n",
       "    <tr>\n",
       "      <th>4</th>\n",
       "      <td>192767</td>\n",
       "      <td>2015-01-08 12:17:12</td>\n",
       "      <td>2015-04-28 02:09:42</td>\n",
       "      <td>15</td>\n",
       "      <td>ZTORJKTDMYTJH</td>\n",
       "      <td>Ads</td>\n",
       "      <td>Safari</td>\n",
       "      <td>M</td>\n",
       "      <td>32</td>\n",
       "      <td>2.568640e+09</td>\n",
       "      <td>...</td>\n",
       "      <td>2</td>\n",
       "      <td>High risk</td>\n",
       "      <td>&lt; 40</td>\n",
       "      <td>2</td>\n",
       "      <td>1</td>\n",
       "      <td>0</td>\n",
       "      <td>April</td>\n",
       "      <td>Tuesday</td>\n",
       "      <td>2</td>\n",
       "      <td>9467550.0</td>\n",
       "    </tr>\n",
       "  </tbody>\n",
       "</table>\n",
       "<p>5 rows × 22 columns</p>\n",
       "</div>"
      ],
      "text/plain": [
       "   user_id         signup_time       purchase_time  purchase_value  \\\n",
       "0    22058 2015-02-24 22:55:49 2015-04-18 02:47:11              34   \n",
       "1   243817 2015-02-13 18:16:05 2015-04-23 17:44:27              72   \n",
       "2    81113 2015-08-16 12:56:45 2015-08-24 05:00:54              52   \n",
       "3   103087 2015-01-04 13:22:11 2015-01-05 12:17:48              67   \n",
       "4   192767 2015-01-08 12:17:12 2015-04-28 02:09:42              15   \n",
       "\n",
       "       device_id  source browser sex  age    ip_address  ...  \\\n",
       "0  QVPSPJUOCKZAR     SEO  Chrome   M   39  7.327584e+08  ...   \n",
       "1  YIIEFBZUGEXNR  Direct  Chrome   F   32  2.521871e+09  ...   \n",
       "2  BKQVBSSFGETUQ  Direct  Chrome   F   44  3.682312e+09  ...   \n",
       "3  ZTORJKTDMYTJH  Direct      IE   F   49  3.665105e+09  ...   \n",
       "4  ZTORJKTDMYTJH     Ads  Safari   M   32  2.568640e+09  ...   \n",
       "\n",
       "   countries_from_device country_risk  age_group device_freq ip_address_freq  \\\n",
       "0                      1    High risk       < 40           1               1   \n",
       "1                      1    High risk       < 40           1               1   \n",
       "2                      1    High risk    40 - 49           1               1   \n",
       "3                      2    High risk    40 - 49           2               1   \n",
       "4                      2    High risk       < 40           2               1   \n",
       "\n",
       "   same_purchase_freq  purchase_month purchase_weekday purchase_hour  \\\n",
       "0                   0           April         Saturday             2   \n",
       "1                   0           April         Thursday            17   \n",
       "2                   0          August           Monday             5   \n",
       "3                   0         January           Monday            12   \n",
       "4                   0           April          Tuesday             2   \n",
       "\n",
       "  seconds_since_signup  \n",
       "0            4506682.0  \n",
       "1            5959702.0  \n",
       "2             662649.0  \n",
       "3              82537.0  \n",
       "4            9467550.0  \n",
       "\n",
       "[5 rows x 22 columns]"
      ]
     },
     "execution_count": 305,
     "metadata": {},
     "output_type": "execute_result"
    }
   ],
   "source": [
    "fraud_data.head()"
   ]
  },
  {
   "cell_type": "code",
   "execution_count": 306,
   "metadata": {},
   "outputs": [],
   "source": [
    "# fraud_data.purchase_month.value_counts()"
   ]
  },
  {
   "cell_type": "code",
   "execution_count": 307,
   "metadata": {},
   "outputs": [],
   "source": [
    "# fraud_data.purchase_weekday.value_counts()"
   ]
  },
  {
   "cell_type": "code",
   "execution_count": 308,
   "metadata": {},
   "outputs": [],
   "source": [
    "# fraud_data.purchase_hour.value_counts()"
   ]
  },
  {
   "cell_type": "code",
   "execution_count": 309,
   "metadata": {},
   "outputs": [],
   "source": [
    "# fraud_data.seconds_since_signup.value_counts()"
   ]
  },
  {
   "cell_type": "code",
   "execution_count": 310,
   "metadata": {},
   "outputs": [
    {
     "data": {
      "text/html": [
       "<div>\n",
       "<style scoped>\n",
       "    .dataframe tbody tr th:only-of-type {\n",
       "        vertical-align: middle;\n",
       "    }\n",
       "\n",
       "    .dataframe tbody tr th {\n",
       "        vertical-align: top;\n",
       "    }\n",
       "\n",
       "    .dataframe thead th {\n",
       "        text-align: right;\n",
       "    }\n",
       "</style>\n",
       "<table border=\"1\" class=\"dataframe\">\n",
       "  <thead>\n",
       "    <tr style=\"text-align: right;\">\n",
       "      <th></th>\n",
       "      <th>user_id</th>\n",
       "      <th>signup_time</th>\n",
       "      <th>purchase_time</th>\n",
       "      <th>purchase_value</th>\n",
       "      <th>age</th>\n",
       "      <th>ip_address</th>\n",
       "      <th>class</th>\n",
       "      <th>countries_from_device</th>\n",
       "      <th>device_freq</th>\n",
       "      <th>ip_address_freq</th>\n",
       "      <th>purchase_hour</th>\n",
       "      <th>seconds_since_signup</th>\n",
       "    </tr>\n",
       "  </thead>\n",
       "  <tbody>\n",
       "    <tr>\n",
       "      <th>count</th>\n",
       "      <td>151112.000000</td>\n",
       "      <td>151112</td>\n",
       "      <td>151112</td>\n",
       "      <td>151112.000000</td>\n",
       "      <td>151112.000000</td>\n",
       "      <td>1.511120e+05</td>\n",
       "      <td>151112.000000</td>\n",
       "      <td>151112.000000</td>\n",
       "      <td>151112.000000</td>\n",
       "      <td>151112.000000</td>\n",
       "      <td>151112.000000</td>\n",
       "      <td>1.511120e+05</td>\n",
       "    </tr>\n",
       "    <tr>\n",
       "      <th>mean</th>\n",
       "      <td>200171.040970</td>\n",
       "      <td>2015-04-20 00:56:09.511329536</td>\n",
       "      <td>2015-06-16 02:56:38.759952640</td>\n",
       "      <td>36.935372</td>\n",
       "      <td>33.140704</td>\n",
       "      <td>2.152145e+09</td>\n",
       "      <td>0.093646</td>\n",
       "      <td>1.063489</td>\n",
       "      <td>1.684367</td>\n",
       "      <td>1.602719</td>\n",
       "      <td>11.521593</td>\n",
       "      <td>4.932029e+06</td>\n",
       "    </tr>\n",
       "    <tr>\n",
       "      <th>min</th>\n",
       "      <td>2.000000</td>\n",
       "      <td>2015-01-01 00:00:42</td>\n",
       "      <td>2015-01-01 00:00:44</td>\n",
       "      <td>9.000000</td>\n",
       "      <td>18.000000</td>\n",
       "      <td>5.209350e+04</td>\n",
       "      <td>0.000000</td>\n",
       "      <td>1.000000</td>\n",
       "      <td>1.000000</td>\n",
       "      <td>1.000000</td>\n",
       "      <td>0.000000</td>\n",
       "      <td>1.000000e+00</td>\n",
       "    </tr>\n",
       "    <tr>\n",
       "      <th>25%</th>\n",
       "      <td>100642.500000</td>\n",
       "      <td>2015-02-18 09:52:48.500000</td>\n",
       "      <td>2015-04-18 14:41:25.500000</td>\n",
       "      <td>22.000000</td>\n",
       "      <td>27.000000</td>\n",
       "      <td>1.085934e+09</td>\n",
       "      <td>0.000000</td>\n",
       "      <td>1.000000</td>\n",
       "      <td>1.000000</td>\n",
       "      <td>1.000000</td>\n",
       "      <td>6.000000</td>\n",
       "      <td>2.186754e+06</td>\n",
       "    </tr>\n",
       "    <tr>\n",
       "      <th>50%</th>\n",
       "      <td>199958.000000</td>\n",
       "      <td>2015-04-19 04:41:30</td>\n",
       "      <td>2015-06-18 13:46:17.500000</td>\n",
       "      <td>35.000000</td>\n",
       "      <td>33.000000</td>\n",
       "      <td>2.154770e+09</td>\n",
       "      <td>0.000000</td>\n",
       "      <td>1.000000</td>\n",
       "      <td>1.000000</td>\n",
       "      <td>1.000000</td>\n",
       "      <td>12.000000</td>\n",
       "      <td>4.926346e+06</td>\n",
       "    </tr>\n",
       "    <tr>\n",
       "      <th>75%</th>\n",
       "      <td>300054.000000</td>\n",
       "      <td>2015-06-18 14:47:22.750000128</td>\n",
       "      <td>2015-08-17 18:48:31.500000</td>\n",
       "      <td>49.000000</td>\n",
       "      <td>39.000000</td>\n",
       "      <td>3.243258e+09</td>\n",
       "      <td>0.000000</td>\n",
       "      <td>1.000000</td>\n",
       "      <td>1.000000</td>\n",
       "      <td>1.000000</td>\n",
       "      <td>17.000000</td>\n",
       "      <td>7.644524e+06</td>\n",
       "    </tr>\n",
       "    <tr>\n",
       "      <th>max</th>\n",
       "      <td>400000.000000</td>\n",
       "      <td>2015-08-18 04:40:29</td>\n",
       "      <td>2015-12-16 02:56:05</td>\n",
       "      <td>154.000000</td>\n",
       "      <td>76.000000</td>\n",
       "      <td>4.294850e+09</td>\n",
       "      <td>1.000000</td>\n",
       "      <td>4.000000</td>\n",
       "      <td>20.000000</td>\n",
       "      <td>20.000000</td>\n",
       "      <td>23.000000</td>\n",
       "      <td>1.036797e+07</td>\n",
       "    </tr>\n",
       "    <tr>\n",
       "      <th>std</th>\n",
       "      <td>115369.285024</td>\n",
       "      <td>NaN</td>\n",
       "      <td>NaN</td>\n",
       "      <td>18.322762</td>\n",
       "      <td>8.617733</td>\n",
       "      <td>1.248497e+09</td>\n",
       "      <td>0.291336</td>\n",
       "      <td>0.248146</td>\n",
       "      <td>2.616954</td>\n",
       "      <td>2.596240</td>\n",
       "      <td>6.912474</td>\n",
       "      <td>3.126263e+06</td>\n",
       "    </tr>\n",
       "  </tbody>\n",
       "</table>\n",
       "</div>"
      ],
      "text/plain": [
       "             user_id                    signup_time  \\\n",
       "count  151112.000000                         151112   \n",
       "mean   200171.040970  2015-04-20 00:56:09.511329536   \n",
       "min         2.000000            2015-01-01 00:00:42   \n",
       "25%    100642.500000     2015-02-18 09:52:48.500000   \n",
       "50%    199958.000000            2015-04-19 04:41:30   \n",
       "75%    300054.000000  2015-06-18 14:47:22.750000128   \n",
       "max    400000.000000            2015-08-18 04:40:29   \n",
       "std    115369.285024                            NaN   \n",
       "\n",
       "                       purchase_time  purchase_value            age  \\\n",
       "count                         151112   151112.000000  151112.000000   \n",
       "mean   2015-06-16 02:56:38.759952640       36.935372      33.140704   \n",
       "min              2015-01-01 00:00:44        9.000000      18.000000   \n",
       "25%       2015-04-18 14:41:25.500000       22.000000      27.000000   \n",
       "50%       2015-06-18 13:46:17.500000       35.000000      33.000000   \n",
       "75%       2015-08-17 18:48:31.500000       49.000000      39.000000   \n",
       "max              2015-12-16 02:56:05      154.000000      76.000000   \n",
       "std                              NaN       18.322762       8.617733   \n",
       "\n",
       "         ip_address          class  countries_from_device    device_freq  \\\n",
       "count  1.511120e+05  151112.000000          151112.000000  151112.000000   \n",
       "mean   2.152145e+09       0.093646               1.063489       1.684367   \n",
       "min    5.209350e+04       0.000000               1.000000       1.000000   \n",
       "25%    1.085934e+09       0.000000               1.000000       1.000000   \n",
       "50%    2.154770e+09       0.000000               1.000000       1.000000   \n",
       "75%    3.243258e+09       0.000000               1.000000       1.000000   \n",
       "max    4.294850e+09       1.000000               4.000000      20.000000   \n",
       "std    1.248497e+09       0.291336               0.248146       2.616954   \n",
       "\n",
       "       ip_address_freq  purchase_hour  seconds_since_signup  \n",
       "count    151112.000000  151112.000000          1.511120e+05  \n",
       "mean          1.602719      11.521593          4.932029e+06  \n",
       "min           1.000000       0.000000          1.000000e+00  \n",
       "25%           1.000000       6.000000          2.186754e+06  \n",
       "50%           1.000000      12.000000          4.926346e+06  \n",
       "75%           1.000000      17.000000          7.644524e+06  \n",
       "max          20.000000      23.000000          1.036797e+07  \n",
       "std           2.596240       6.912474          3.126263e+06  "
      ]
     },
     "execution_count": 310,
     "metadata": {},
     "output_type": "execute_result"
    }
   ],
   "source": [
    "fraud_data.describe()"
   ]
  },
  {
   "cell_type": "code",
   "execution_count": 311,
   "metadata": {},
   "outputs": [],
   "source": [
    "# Group by the period of the day at which the purchase was made\n",
    "fraud_data['purchase_period_of_day'] = fraud_data.purchase_hour.apply(lambda x : \n",
    "                                                             'late night' if x < 4 else\n",
    "                                                             'early morning' if x < 8 else\n",
    "                                                             'morning' if x < 12 else\n",
    "                                                             'early afternoon' if x < 16 else\n",
    "                                                             'afternoon' if x < 20 else\n",
    "                                                             'evening'\n",
    "                                                            )"
   ]
  },
  {
   "cell_type": "code",
   "execution_count": 312,
   "metadata": {},
   "outputs": [
    {
     "data": {
      "text/plain": [
       "1.0"
      ]
     },
     "execution_count": 312,
     "metadata": {},
     "output_type": "execute_result"
    }
   ],
   "source": [
    "fraud_data.seconds_since_signup.min()"
   ]
  },
  {
   "cell_type": "code",
   "execution_count": 313,
   "metadata": {},
   "outputs": [
    {
     "data": {
      "text/plain": [
       "10367972.0"
      ]
     },
     "execution_count": 313,
     "metadata": {},
     "output_type": "execute_result"
    }
   ],
   "source": [
    "fraud_data.seconds_since_signup.max()"
   ]
  },
  {
   "cell_type": "code",
   "execution_count": 314,
   "metadata": {},
   "outputs": [
    {
     "data": {
      "text/plain": [
       "0         (4062544.421, 4642407.474]\n",
       "1           (5781175.0, 6352782.263]\n",
       "2            (608744.421, 1201455.0]\n",
       "3            (26337.053, 608744.421]\n",
       "4           (9218721.211, 9788699.0]\n",
       "                     ...            \n",
       "151107    (3489097.684, 4062544.421]\n",
       "151108       (608744.421, 1201455.0]\n",
       "151109      (5781175.0, 6352782.263]\n",
       "151110       (608744.421, 1201455.0]\n",
       "151111       (608744.421, 1201455.0]\n",
       "Name: seconds_since_signup, Length: 151112, dtype: category\n",
       "Categories (19, interval[float64, right]): [(0.999, 26337.053] < (26337.053, 608744.421] < (608744.421, 1201455.0] < (1201455.0, 1766604.789] ... (8079595.263, 8647682.737] < (8647682.737, 9218721.211] < (9218721.211, 9788699.0] < (9788699.0, 10367972.0]]"
      ]
     },
     "execution_count": 314,
     "metadata": {},
     "output_type": "execute_result"
    }
   ],
   "source": [
    "pd.qcut(fraud_data.seconds_since_signup, q=19)"
   ]
  },
  {
   "cell_type": "code",
   "execution_count": 315,
   "metadata": {},
   "outputs": [],
   "source": [
    "fraud_data['seconds_since_signup_cat'] = pd.qcut(fraud_data.seconds_since_signup, q=19)"
   ]
  },
  {
   "cell_type": "code",
   "execution_count": 316,
   "metadata": {},
   "outputs": [],
   "source": [
    "fraud_data['seconds_since_signup_cat_str'] = fraud_data['seconds_since_signup_cat'].astype(str)"
   ]
  },
  {
   "cell_type": "code",
   "execution_count": 317,
   "metadata": {},
   "outputs": [
    {
     "data": {
      "text/html": [
       "<div>\n",
       "<style scoped>\n",
       "    .dataframe tbody tr th:only-of-type {\n",
       "        vertical-align: middle;\n",
       "    }\n",
       "\n",
       "    .dataframe tbody tr th {\n",
       "        vertical-align: top;\n",
       "    }\n",
       "\n",
       "    .dataframe thead th {\n",
       "        text-align: right;\n",
       "    }\n",
       "</style>\n",
       "<table border=\"1\" class=\"dataframe\">\n",
       "  <thead>\n",
       "    <tr style=\"text-align: right;\">\n",
       "      <th></th>\n",
       "      <th>user_id</th>\n",
       "      <th>signup_time</th>\n",
       "      <th>purchase_time</th>\n",
       "      <th>purchase_value</th>\n",
       "      <th>device_id</th>\n",
       "      <th>source</th>\n",
       "      <th>browser</th>\n",
       "      <th>sex</th>\n",
       "      <th>age</th>\n",
       "      <th>ip_address</th>\n",
       "      <th>...</th>\n",
       "      <th>device_freq</th>\n",
       "      <th>ip_address_freq</th>\n",
       "      <th>same_purchase_freq</th>\n",
       "      <th>purchase_month</th>\n",
       "      <th>purchase_weekday</th>\n",
       "      <th>purchase_hour</th>\n",
       "      <th>seconds_since_signup</th>\n",
       "      <th>purchase_period_of_day</th>\n",
       "      <th>seconds_since_signup_cat</th>\n",
       "      <th>seconds_since_signup_cat_str</th>\n",
       "    </tr>\n",
       "  </thead>\n",
       "  <tbody>\n",
       "    <tr>\n",
       "      <th>0</th>\n",
       "      <td>22058</td>\n",
       "      <td>2015-02-24 22:55:49</td>\n",
       "      <td>2015-04-18 02:47:11</td>\n",
       "      <td>34</td>\n",
       "      <td>QVPSPJUOCKZAR</td>\n",
       "      <td>SEO</td>\n",
       "      <td>Chrome</td>\n",
       "      <td>M</td>\n",
       "      <td>39</td>\n",
       "      <td>7.327584e+08</td>\n",
       "      <td>...</td>\n",
       "      <td>1</td>\n",
       "      <td>1</td>\n",
       "      <td>0</td>\n",
       "      <td>April</td>\n",
       "      <td>Saturday</td>\n",
       "      <td>2</td>\n",
       "      <td>4506682.0</td>\n",
       "      <td>late night</td>\n",
       "      <td>(4062544.421, 4642407.474]</td>\n",
       "      <td>(4062544.421, 4642407.474]</td>\n",
       "    </tr>\n",
       "    <tr>\n",
       "      <th>1</th>\n",
       "      <td>243817</td>\n",
       "      <td>2015-02-13 18:16:05</td>\n",
       "      <td>2015-04-23 17:44:27</td>\n",
       "      <td>72</td>\n",
       "      <td>YIIEFBZUGEXNR</td>\n",
       "      <td>Direct</td>\n",
       "      <td>Chrome</td>\n",
       "      <td>F</td>\n",
       "      <td>32</td>\n",
       "      <td>2.521871e+09</td>\n",
       "      <td>...</td>\n",
       "      <td>1</td>\n",
       "      <td>1</td>\n",
       "      <td>0</td>\n",
       "      <td>April</td>\n",
       "      <td>Thursday</td>\n",
       "      <td>17</td>\n",
       "      <td>5959702.0</td>\n",
       "      <td>afternoon</td>\n",
       "      <td>(5781175.0, 6352782.263]</td>\n",
       "      <td>(5781175.0, 6352782.263]</td>\n",
       "    </tr>\n",
       "    <tr>\n",
       "      <th>2</th>\n",
       "      <td>81113</td>\n",
       "      <td>2015-08-16 12:56:45</td>\n",
       "      <td>2015-08-24 05:00:54</td>\n",
       "      <td>52</td>\n",
       "      <td>BKQVBSSFGETUQ</td>\n",
       "      <td>Direct</td>\n",
       "      <td>Chrome</td>\n",
       "      <td>F</td>\n",
       "      <td>44</td>\n",
       "      <td>3.682312e+09</td>\n",
       "      <td>...</td>\n",
       "      <td>1</td>\n",
       "      <td>1</td>\n",
       "      <td>0</td>\n",
       "      <td>August</td>\n",
       "      <td>Monday</td>\n",
       "      <td>5</td>\n",
       "      <td>662649.0</td>\n",
       "      <td>early morning</td>\n",
       "      <td>(608744.421, 1201455.0]</td>\n",
       "      <td>(608744.421, 1201455.0]</td>\n",
       "    </tr>\n",
       "    <tr>\n",
       "      <th>3</th>\n",
       "      <td>103087</td>\n",
       "      <td>2015-01-04 13:22:11</td>\n",
       "      <td>2015-01-05 12:17:48</td>\n",
       "      <td>67</td>\n",
       "      <td>ZTORJKTDMYTJH</td>\n",
       "      <td>Direct</td>\n",
       "      <td>IE</td>\n",
       "      <td>F</td>\n",
       "      <td>49</td>\n",
       "      <td>3.665105e+09</td>\n",
       "      <td>...</td>\n",
       "      <td>2</td>\n",
       "      <td>1</td>\n",
       "      <td>0</td>\n",
       "      <td>January</td>\n",
       "      <td>Monday</td>\n",
       "      <td>12</td>\n",
       "      <td>82537.0</td>\n",
       "      <td>early afternoon</td>\n",
       "      <td>(26337.053, 608744.421]</td>\n",
       "      <td>(26337.053, 608744.421]</td>\n",
       "    </tr>\n",
       "    <tr>\n",
       "      <th>4</th>\n",
       "      <td>192767</td>\n",
       "      <td>2015-01-08 12:17:12</td>\n",
       "      <td>2015-04-28 02:09:42</td>\n",
       "      <td>15</td>\n",
       "      <td>ZTORJKTDMYTJH</td>\n",
       "      <td>Ads</td>\n",
       "      <td>Safari</td>\n",
       "      <td>M</td>\n",
       "      <td>32</td>\n",
       "      <td>2.568640e+09</td>\n",
       "      <td>...</td>\n",
       "      <td>2</td>\n",
       "      <td>1</td>\n",
       "      <td>0</td>\n",
       "      <td>April</td>\n",
       "      <td>Tuesday</td>\n",
       "      <td>2</td>\n",
       "      <td>9467550.0</td>\n",
       "      <td>late night</td>\n",
       "      <td>(9218721.211, 9788699.0]</td>\n",
       "      <td>(9218721.211, 9788699.0]</td>\n",
       "    </tr>\n",
       "  </tbody>\n",
       "</table>\n",
       "<p>5 rows × 25 columns</p>\n",
       "</div>"
      ],
      "text/plain": [
       "   user_id         signup_time       purchase_time  purchase_value  \\\n",
       "0    22058 2015-02-24 22:55:49 2015-04-18 02:47:11              34   \n",
       "1   243817 2015-02-13 18:16:05 2015-04-23 17:44:27              72   \n",
       "2    81113 2015-08-16 12:56:45 2015-08-24 05:00:54              52   \n",
       "3   103087 2015-01-04 13:22:11 2015-01-05 12:17:48              67   \n",
       "4   192767 2015-01-08 12:17:12 2015-04-28 02:09:42              15   \n",
       "\n",
       "       device_id  source browser sex  age    ip_address  ...  device_freq  \\\n",
       "0  QVPSPJUOCKZAR     SEO  Chrome   M   39  7.327584e+08  ...            1   \n",
       "1  YIIEFBZUGEXNR  Direct  Chrome   F   32  2.521871e+09  ...            1   \n",
       "2  BKQVBSSFGETUQ  Direct  Chrome   F   44  3.682312e+09  ...            1   \n",
       "3  ZTORJKTDMYTJH  Direct      IE   F   49  3.665105e+09  ...            2   \n",
       "4  ZTORJKTDMYTJH     Ads  Safari   M   32  2.568640e+09  ...            2   \n",
       "\n",
       "  ip_address_freq  same_purchase_freq purchase_month purchase_weekday  \\\n",
       "0               1                   0          April         Saturday   \n",
       "1               1                   0          April         Thursday   \n",
       "2               1                   0         August           Monday   \n",
       "3               1                   0        January           Monday   \n",
       "4               1                   0          April          Tuesday   \n",
       "\n",
       "   purchase_hour  seconds_since_signup purchase_period_of_day  \\\n",
       "0              2             4506682.0             late night   \n",
       "1             17             5959702.0              afternoon   \n",
       "2              5              662649.0          early morning   \n",
       "3             12               82537.0        early afternoon   \n",
       "4              2             9467550.0             late night   \n",
       "\n",
       "     seconds_since_signup_cat seconds_since_signup_cat_str  \n",
       "0  (4062544.421, 4642407.474]   (4062544.421, 4642407.474]  \n",
       "1    (5781175.0, 6352782.263]     (5781175.0, 6352782.263]  \n",
       "2     (608744.421, 1201455.0]      (608744.421, 1201455.0]  \n",
       "3     (26337.053, 608744.421]      (26337.053, 608744.421]  \n",
       "4    (9218721.211, 9788699.0]     (9218721.211, 9788699.0]  \n",
       "\n",
       "[5 rows x 25 columns]"
      ]
     },
     "execution_count": 317,
     "metadata": {},
     "output_type": "execute_result"
    }
   ],
   "source": [
    "fraud_data.head()"
   ]
  },
  {
   "cell_type": "code",
   "execution_count": 318,
   "metadata": {},
   "outputs": [],
   "source": [
    "# fraud_data['seconds_since_signup_cat'].value_counts()"
   ]
  },
  {
   "cell_type": "code",
   "execution_count": 319,
   "metadata": {},
   "outputs": [],
   "source": [
    "def sort_bins(bin_col):\n",
    "    '''\n",
    "    Sorts bins after using pd.cut. Increasing order. Puts 'NaN' bin at the beginning. \n",
    "\n",
    "    Input:\n",
    "        bin_col: pd.series containing bins to be sorted\n",
    "\n",
    "    '''\n",
    "\n",
    "    # Dictionary to store first value from each bin\n",
    "    vals = {}\n",
    "\n",
    "    # Iterate through all bins\n",
    "    for i, item in enumerate(bin_col.unique()):\n",
    "\n",
    "        # Check if bin is 'nan', if yes, assign low value to put it at the beginning\n",
    "        if item == 'nan':\n",
    "            vals[i] = -99999\n",
    "\n",
    "        # If not 'nan', get the first value from bin to sort later\n",
    "        else:\n",
    "            vals[i] = float(item.split(',')[0][1:])\n",
    "\n",
    "    # Sort bins according to extracted first values\n",
    "    ixs = list({k: v for k, v in \\\n",
    "                    sorted(vals.items(), key=lambda item: item[1])}.keys())\n",
    "\n",
    "    # Make sorted list of bins\n",
    "    sorted_bins = bin_col.unique()[list(ixs)]\n",
    "\n",
    "    return sorted_bins"
   ]
  },
  {
   "cell_type": "code",
   "execution_count": 320,
   "metadata": {},
   "outputs": [],
   "source": [
    "# Example, assuming 'age_bin' column has the bins:\n",
    "sorted_bins = sort_bins(fraud_data['seconds_since_signup_cat_str'])"
   ]
  },
  {
   "cell_type": "code",
   "execution_count": 321,
   "metadata": {},
   "outputs": [
    {
     "data": {
      "text/plain": [
       "array(['(0.999, 26337.053]', '(26337.053, 608744.421]',\n",
       "       '(608744.421, 1201455.0]', '(1201455.0, 1766604.789]',\n",
       "       '(1766604.789, 2329427.421]', '(2329427.421, 2906125.947]',\n",
       "       '(2906125.947, 3489097.684]', '(3489097.684, 4062544.421]',\n",
       "       '(4062544.421, 4642407.474]', '(4642407.474, 5208502.632]',\n",
       "       '(5208502.632, 5781175.0]', '(5781175.0, 6352782.263]',\n",
       "       '(6352782.263, 6933466.368]', '(6933466.368, 7498441.211]',\n",
       "       '(7498441.211, 8079595.263]', '(8079595.263, 8647682.737]',\n",
       "       '(8647682.737, 9218721.211]', '(9218721.211, 9788699.0]',\n",
       "       '(9788699.0, 10367972.0]'], dtype=object)"
      ]
     },
     "execution_count": 321,
     "metadata": {},
     "output_type": "execute_result"
    }
   ],
   "source": [
    "sorted_bins"
   ]
  },
  {
   "cell_type": "code",
   "execution_count": 322,
   "metadata": {},
   "outputs": [],
   "source": [
    "fraud_data['quick_purchase'] = fraud_data.seconds_since_signup.apply(lambda x : 1 if x < 137 else 0)"
   ]
  },
  {
   "cell_type": "code",
   "execution_count": 323,
   "metadata": {},
   "outputs": [],
   "source": [
    "# fraud_data.quick_purchase.value_counts()"
   ]
  },
  {
   "cell_type": "code",
   "execution_count": 324,
   "metadata": {},
   "outputs": [],
   "source": [
    "fraud_data['first_purchase'] = fraud_data.apply(lambda x : \n",
    "                                         1 if x.purchase_time == fraud_data.purchase_time[fraud_data.device_id == x.device_id].min() else 0,\n",
    "                                         axis =1)"
   ]
  },
  {
   "cell_type": "code",
   "execution_count": 325,
   "metadata": {},
   "outputs": [],
   "source": [
    "# fraud_data.first_purchase.value_counts()"
   ]
  },
  {
   "cell_type": "markdown",
   "metadata": {},
   "source": [
    "### Explore Likelihood of Fraud by Category"
   ]
  },
  {
   "cell_type": "code",
   "execution_count": 326,
   "metadata": {},
   "outputs": [
    {
     "data": {
      "text/plain": [
       "Index(['Ads', 'Direct', 'SEO'], dtype='object', name='source')"
      ]
     },
     "execution_count": 326,
     "metadata": {},
     "output_type": "execute_result"
    }
   ],
   "source": [
    "# fraud_data.groupby('source').head()\n",
    "fraud_data.groupby('source')['class'].mean()\n",
    "fraud_data.groupby('source')['class'].mean().index\n",
    "# .mean()"
   ]
  },
  {
   "cell_type": "code",
   "execution_count": 327,
   "metadata": {},
   "outputs": [],
   "source": [
    "# fraud_data['country'].value_counts()\n"
   ]
  },
  {
   "cell_type": "code",
   "execution_count": 328,
   "metadata": {},
   "outputs": [
    {
     "data": {
      "text/plain": [
       "country\n",
       "Turkmenistan             1.000000\n",
       "Namibia                  0.434783\n",
       "Sri Lanka                0.419355\n",
       "Luxembourg               0.388889\n",
       "Virgin Islands (U.S.)    0.333333\n",
       "Ecuador                  0.264151\n",
       "Tunisia                  0.262712\n",
       "Peru                     0.260504\n",
       "Bolivia                  0.245283\n",
       "Kuwait                   0.233333\n",
       "Ireland                  0.229167\n",
       "New Zealand              0.223022\n",
       "Uzbekistan               0.200000\n",
       "Lithuania                0.189474\n",
       "Saudi Arabia             0.189394\n",
       "Malta                    0.181818\n",
       "Afghanistan              0.166667\n",
       "Cote D'ivoire            0.166667\n",
       "Denmark                  0.159184\n",
       "Chile                    0.153477\n",
       "Greece                   0.142857\n",
       "Malawi                   0.142857\n",
       "Montenegro               0.142857\n",
       "United Arab Emirates     0.140351\n",
       "Belgium                  0.136919\n",
       "Egypt                    0.133705\n",
       "Armenia                  0.133333\n",
       "Costa Rica               0.133333\n",
       "Name: class, dtype: float64"
      ]
     },
     "execution_count": 328,
     "metadata": {},
     "output_type": "execute_result"
    }
   ],
   "source": [
    "fraud_data.groupby('country')['class'].mean().sort_values(ascending=False)[:28]"
   ]
  },
  {
   "cell_type": "code",
   "execution_count": 329,
   "metadata": {},
   "outputs": [
    {
     "data": {
      "text/plain": [
       "['United States',\n",
       " 'Unknown',\n",
       " 'China',\n",
       " 'Japan',\n",
       " 'United Kingdom',\n",
       " 'Korea Republic of',\n",
       " 'Germany',\n",
       " 'France',\n",
       " 'Canada',\n",
       " 'Brazil',\n",
       " 'Italy',\n",
       " 'Australia',\n",
       " 'Netherlands',\n",
       " 'Russian Federation',\n",
       " 'India',\n",
       " 'Taiwan; Republic of China (ROC)',\n",
       " 'Mexico',\n",
       " 'Sweden',\n",
       " 'Spain']"
      ]
     },
     "execution_count": 329,
     "metadata": {},
     "output_type": "execute_result"
    }
   ],
   "source": [
    "#Filter countries to those with at least 1000 transactions\n",
    "\n",
    "relevant_countries = fraud_data['country'].value_counts() > 1000\n",
    "relevant_countries_list = list(relevant_countries[relevant_countries == True].index)\n",
    "relevant_countries_list\n",
    "\n"
   ]
  },
  {
   "cell_type": "code",
   "execution_count": 330,
   "metadata": {},
   "outputs": [
    {
     "data": {
      "text/plain": [
       "country\n",
       "Mexico                             0.128457\n",
       "Sweden                             0.120183\n",
       "Canada                             0.116975\n",
       "India                              0.115267\n",
       "United Kingdom                     0.106236\n",
       "Japan                              0.097865\n",
       "United States                      0.095626\n",
       "France                             0.094907\n",
       "Korea Republic of                  0.091302\n",
       "Brazil                             0.091185\n",
       "Australia                          0.089479\n",
       "China                              0.086642\n",
       "Unknown                            0.085723\n",
       "Italy                              0.085391\n",
       "Russian Federation                 0.082921\n",
       "Taiwan; Republic of China (ROC)    0.080032\n",
       "Netherlands                        0.073214\n",
       "Germany                            0.071860\n",
       "Spain                              0.071081\n",
       "Name: class, dtype: float64"
      ]
     },
     "execution_count": 330,
     "metadata": {},
     "output_type": "execute_result"
    }
   ],
   "source": [
    "fraud_data[fraud_data['country'].isin(relevant_countries_list)].groupby('country')['class'].mean().sort_values(ascending=False)[:28]"
   ]
  },
  {
   "cell_type": "code",
   "execution_count": 331,
   "metadata": {},
   "outputs": [
    {
     "name": "stderr",
     "output_type": "stream",
     "text": [
      "/Users/llakes/anaconda3/envs/learn-env/lib/python3.8/site-packages/seaborn/_decorators.py:36: FutureWarning: Pass the following variables as keyword args: x, y. From version 0.12, the only valid positional argument will be `data`, and passing other arguments without an explicit keyword will result in an error or misinterpretation.\n",
      "  warnings.warn(\n",
      "/Users/llakes/anaconda3/envs/learn-env/lib/python3.8/site-packages/seaborn/_decorators.py:36: FutureWarning: Pass the following variables as keyword args: x, y. From version 0.12, the only valid positional argument will be `data`, and passing other arguments without an explicit keyword will result in an error or misinterpretation.\n",
      "  warnings.warn(\n",
      "/Users/llakes/anaconda3/envs/learn-env/lib/python3.8/site-packages/seaborn/_decorators.py:36: FutureWarning: Pass the following variables as keyword args: x, y. From version 0.12, the only valid positional argument will be `data`, and passing other arguments without an explicit keyword will result in an error or misinterpretation.\n",
      "  warnings.warn(\n",
      "/Users/llakes/anaconda3/envs/learn-env/lib/python3.8/site-packages/seaborn/_decorators.py:36: FutureWarning: Pass the following variables as keyword args: x, y. From version 0.12, the only valid positional argument will be `data`, and passing other arguments without an explicit keyword will result in an error or misinterpretation.\n",
      "  warnings.warn(\n",
      "/Users/llakes/anaconda3/envs/learn-env/lib/python3.8/site-packages/seaborn/_decorators.py:36: FutureWarning: Pass the following variables as keyword args: x, y. From version 0.12, the only valid positional argument will be `data`, and passing other arguments without an explicit keyword will result in an error or misinterpretation.\n",
      "  warnings.warn(\n",
      "/Users/llakes/anaconda3/envs/learn-env/lib/python3.8/site-packages/seaborn/_decorators.py:36: FutureWarning: Pass the following variables as keyword args: x, y. From version 0.12, the only valid positional argument will be `data`, and passing other arguments without an explicit keyword will result in an error or misinterpretation.\n",
      "  warnings.warn(\n",
      "/Users/llakes/anaconda3/envs/learn-env/lib/python3.8/site-packages/seaborn/_decorators.py:36: FutureWarning: Pass the following variables as keyword args: x, y. From version 0.12, the only valid positional argument will be `data`, and passing other arguments without an explicit keyword will result in an error or misinterpretation.\n",
      "  warnings.warn(\n",
      "/Users/llakes/anaconda3/envs/learn-env/lib/python3.8/site-packages/seaborn/_decorators.py:36: FutureWarning: Pass the following variables as keyword args: x, y. From version 0.12, the only valid positional argument will be `data`, and passing other arguments without an explicit keyword will result in an error or misinterpretation.\n",
      "  warnings.warn(\n",
      "/Users/llakes/anaconda3/envs/learn-env/lib/python3.8/site-packages/seaborn/_decorators.py:36: FutureWarning: Pass the following variables as keyword args: x, y. From version 0.12, the only valid positional argument will be `data`, and passing other arguments without an explicit keyword will result in an error or misinterpretation.\n",
      "  warnings.warn(\n",
      "/Users/llakes/anaconda3/envs/learn-env/lib/python3.8/site-packages/seaborn/_decorators.py:36: FutureWarning: Pass the following variables as keyword args: x, y. From version 0.12, the only valid positional argument will be `data`, and passing other arguments without an explicit keyword will result in an error or misinterpretation.\n",
      "  warnings.warn(\n",
      "/Users/llakes/anaconda3/envs/learn-env/lib/python3.8/site-packages/seaborn/_decorators.py:36: FutureWarning: Pass the following variables as keyword args: x, y. From version 0.12, the only valid positional argument will be `data`, and passing other arguments without an explicit keyword will result in an error or misinterpretation.\n",
      "  warnings.warn(\n",
      "/Users/llakes/anaconda3/envs/learn-env/lib/python3.8/site-packages/seaborn/_decorators.py:36: FutureWarning: Pass the following variables as keyword args: x, y. From version 0.12, the only valid positional argument will be `data`, and passing other arguments without an explicit keyword will result in an error or misinterpretation.\n",
      "  warnings.warn(\n",
      "/Users/llakes/anaconda3/envs/learn-env/lib/python3.8/site-packages/seaborn/_decorators.py:36: FutureWarning: Pass the following variables as keyword args: x, y. From version 0.12, the only valid positional argument will be `data`, and passing other arguments without an explicit keyword will result in an error or misinterpretation.\n",
      "  warnings.warn(\n",
      "/Users/llakes/anaconda3/envs/learn-env/lib/python3.8/site-packages/seaborn/_decorators.py:36: FutureWarning: Pass the following variables as keyword args: x, y. From version 0.12, the only valid positional argument will be `data`, and passing other arguments without an explicit keyword will result in an error or misinterpretation.\n",
      "  warnings.warn(\n",
      "/Users/llakes/anaconda3/envs/learn-env/lib/python3.8/site-packages/seaborn/_decorators.py:36: FutureWarning: Pass the following variables as keyword args: x, y. From version 0.12, the only valid positional argument will be `data`, and passing other arguments without an explicit keyword will result in an error or misinterpretation.\n",
      "  warnings.warn(\n"
     ]
    },
    {
     "data": {
      "text/plain": [
       "[Text(0, 0, 'Mexico'),\n",
       " Text(1, 0, 'Sweden'),\n",
       " Text(2, 0, 'Canada'),\n",
       " Text(3, 0, 'India'),\n",
       " Text(4, 0, 'United Kingdom'),\n",
       " Text(5, 0, 'Japan'),\n",
       " Text(6, 0, 'United States'),\n",
       " Text(7, 0, 'France'),\n",
       " Text(8, 0, 'Korea Republic of'),\n",
       " Text(9, 0, 'Brazil'),\n",
       " Text(10, 0, 'Australia'),\n",
       " Text(11, 0, 'China'),\n",
       " Text(12, 0, 'Unknown'),\n",
       " Text(13, 0, 'Italy'),\n",
       " Text(14, 0, 'Russian Federation'),\n",
       " Text(15, 0, 'Taiwan; Republic of China (ROC)'),\n",
       " Text(16, 0, 'Netherlands'),\n",
       " Text(17, 0, 'Germany'),\n",
       " Text(18, 0, 'Spain')]"
      ]
     },
     "execution_count": 331,
     "metadata": {},
     "output_type": "execute_result"
    },
    {
     "data": {
      "image/png": "[encoded data removed]",
      "text/plain": [
       "<Figure size 1296x1296 with 6 Axes>"
      ]
     },
     "metadata": {
      "needs_background": "light"
     },
     "output_type": "display_data"
    },
    {
     "data": {
      "image/png": "[encoded data removed]",
      "text/plain": [
       "<Figure size 1728x576 with 1 Axes>"
      ]
     },
     "metadata": {
      "needs_background": "light"
     },
     "output_type": "display_data"
    },
    {
     "data": {
      "image/png": "[encoded data removed]",
      "text/plain": [
       "<Figure size 1296x1296 with 6 Axes>"
      ]
     },
     "metadata": {
      "needs_background": "light"
     },
     "output_type": "display_data"
    },
    {
     "data": {
      "image/png": "[encoded data removed]",
      "text/plain": [
       "<Figure size 2448x1296 with 4 Axes>"
      ]
     },
     "metadata": {
      "needs_background": "light"
     },
     "output_type": "display_data"
    },
    {
     "data": {
      "image/png": "[encoded data removed]",
      "text/plain": [
       "<Figure size 1728x576 with 1 Axes>"
      ]
     },
     "metadata": {
      "needs_background": "light"
     },
     "output_type": "display_data"
    },
    {
     "data": {
      "image/png": "[encoded data removed]",
      "text/plain": [
       "<Figure size 1728x576 with 1 Axes>"
      ]
     },
     "metadata": {
      "needs_background": "light"
     },
     "output_type": "display_data"
    }
   ],
   "source": [
    "# We look at the likelihood of fraud per category\n",
    "\n",
    "f, ax = plt.subplots(3, 2, figsize =(18, 18))\n",
    "f.subplots_adjust(hspace=0.4)\n",
    "\n",
    "f2, ax2 = plt.subplots(1, 1, figsize =(24, 8))\n",
    "\n",
    "f3, ax3 = plt.subplots(3, 2, figsize =(18, 18))\n",
    "f3.subplots_adjust(hspace=0.4)\n",
    "\n",
    "f4, ax4 = plt.subplots(4, 1, figsize =(34, 18))\n",
    "f4.subplots_adjust(hspace=0.4)\n",
    "\n",
    "f5, ax5 = plt.subplots(1, 1, figsize =(24, 8))\n",
    "\n",
    "f6, ax6 = plt.subplots(1, 1, figsize =(24, 8))\n",
    "\n",
    "# Direct sources have the highest likelihood of fraud at 10.5%, followed by ads at 9.2%, then SEO at 8.9%\n",
    "sns.barplot(fraud_data.groupby('source')['class'].mean().index, fraud_data.groupby('source')['class'].mean(), ax = ax[0, 0])\n",
    "ax[0, 0].set_title('Likelihood of Fraud by Source')\n",
    "ax[0, 0].set_xlabel('Source')\n",
    "ax[0, 0].set_ylabel('Fraud')\n",
    "ax[0, 0].yaxis.set_major_formatter(FuncFormatter(lambda y, _: '{:.0%}'.format(y))) \n",
    "\n",
    "# Chrome browsers have the highest likelihood of fraud at 9.9%, followed by FireFox (9.5%), Safari (9.0%), Opera (8.9%) and IE (8.7%)\n",
    "sns.barplot(fraud_data.groupby('browser')['class'].mean().index, fraud_data.groupby('browser')['class'].mean(), ax = ax[0, 1])\n",
    "ax[0, 1].set_title('Likelihood of Fraud by Browser')\n",
    "ax[0, 1].set_xlabel('Browser')\n",
    "ax[0, 1].set_ylabel('Fraud')\n",
    "ax[0, 1].yaxis.set_major_formatter(FuncFormatter(lambda y, _: '{:.0%}'.format(y))) \n",
    "\n",
    "# Males have a higher likelihood of fraud at 9.65% compared to females (9.1%)\n",
    "sns.barplot(fraud_data.groupby('sex')['class'].mean().index, fraud_data.groupby('sex')['class'].mean(), ax = ax[1, 0])\n",
    "ax[1, 0].set_title('Likelihood of Fraud by Sex')\n",
    "ax[1, 0].set_xlabel('Sex')\n",
    "ax[1, 0].set_ylabel('Fraud')\n",
    "ax[1, 0].yaxis.set_major_formatter(FuncFormatter(lambda y, _: '{:.0%}'.format(y))) \n",
    "\n",
    "# January has, by far, the highest likelihood of fraud at 76.5%. December comes in second, with a much lower 6.0% fraud occurrence. \n",
    "# This may be related to holiday shopping and returns, following Christmas and Black Friday (Day after Thanksgiving).\n",
    "sns.barplot(fraud_data.groupby('purchase_month')['class'].mean().index, fraud_data.groupby('purchase_month')['class'].mean(), ax = ax[1, 1])\n",
    "ax[1, 1].set_title('Likelihood of Fraud by Purchase Month')\n",
    "ax[1, 1].set_xlabel('Purchase Month')\n",
    "ax[1, 1].set_ylabel('Fraud')\n",
    "ax[1, 1].yaxis.set_major_formatter(FuncFormatter(lambda y, _: '{:.0%}'.format(y))) \n",
    "ax[1, 1].set_xticklabels(fraud_data.groupby('purchase_month')['class'].mean().index, rotation = 45)\n",
    "\n",
    "# Weekends have the highest occurence of Fraud, with Fridays at 10.2%, Sundays at 10.1% and Saturdays at 9.9%. Next comes Thursday (9.8%), Monday (9.6%),\n",
    "# Wednesday (8.0%) and Tuesday (7.8%)\n",
    "sns.barplot(fraud_data.groupby('purchase_weekday')['class'].mean().index, fraud_data.groupby('purchase_weekday')['class'].mean(), ax = ax[2, 0])\n",
    "ax[2, 0].set_title('Likelihood of Fraud by Purchase Weekday')\n",
    "ax[2, 0].set_xlabel('Purchase Weekday')\n",
    "ax[2, 0].set_ylabel('Fraud')\n",
    "ax[2, 0].yaxis.set_major_formatter(FuncFormatter(lambda y, _: '{:.0%}'.format(y))) \n",
    "\n",
    "# The peaks for fraud likelihood are in the evening, at 10.7% around 8pm, and then the morning, at 10.6% around 9am.\n",
    "sns.barplot(fraud_data.groupby('purchase_hour')['class'].mean().index, fraud_data.groupby('purchase_hour')['class'].mean(), ax = ax[2, 1])\n",
    "ax[2, 1].set_title('Likelihood of Fraud by Purchase Hour')\n",
    "ax[2, 1].set_xlabel('Purchase Hour')\n",
    "ax[2, 1].set_ylabel('Fraud')\n",
    "ax[2, 1].yaxis.set_major_formatter(FuncFormatter(lambda y, _: '{:.0%}'.format(y))) \n",
    "\n",
    "# Fraud is most likely when a purchase is made in the first 7 hours and 19 minutes (26,337 seconds) after signup, with an occurence of 95.7%, compared with a \n",
    "# range of 4.1% to 5.0% for times periods after the first 7 hours and 19 minutes. Thus, quicker purchases are more likely to be fraudulent.\n",
    "sns.barplot(fraud_data.groupby('seconds_since_signup_cat')['class'].mean().index, fraud_data.groupby('seconds_since_signup_cat')['class'].mean(), ax = ax2)\n",
    "ax2.set_title('Likelihood of Fraud by Seconds Since Signup')\n",
    "ax2.set_xlabel('Seconds Since Signup')\n",
    "ax2.set_ylabel('Fraud')\n",
    "ax2.yaxis.set_major_formatter(FuncFormatter(lambda y, _: '{:.0%}'.format(y))) \n",
    "ax2.set_xticklabels(fraud_data.groupby('seconds_since_signup_cat')['class'].mean().index, rotation = 45) \n",
    "\n",
    "# Mornings and afternoons have the highest likelihood of fraud with afternoons at 10.0%, mornings at 9.9% and early afternoons\n",
    "# at 9.5%\n",
    "sns.barplot(fraud_data.groupby('purchase_period_of_day')['class'].mean().index, fraud_data.groupby('purchase_period_of_day')['class'].mean(), ax = ax3[0, 0])\n",
    "ax3[0, 0].set_title('Likelihood of Fraud by Purchase Period of the Day')\n",
    "ax3[0, 0].set_xlabel('Purchase Period of the Day')\n",
    "ax3[0, 0].set_ylabel('Fraud')\n",
    "ax3[0, 0].yaxis.set_major_formatter(FuncFormatter(lambda y, _: '{:.0%}'.format(y))) \n",
    "\n",
    "# Fraud is highest for those between the ages of 60 and 69 (at 11.0%) followed by those between the ages of 50 and 59 (at 10.2%).\n",
    "sns.barplot(fraud_data.groupby('age_group')['class'].mean().index, fraud_data.groupby('age_group')['class'].mean(), ax = ax3[0, 1])\n",
    "ax3[0, 1].set_title('Likelihood of Fraud by Age Group')\n",
    "ax3[0, 1].set_xlabel('Age Group')\n",
    "ax3[0, 1].set_ylabel('Fraud')\n",
    "ax3[0, 1].yaxis.set_major_formatter(FuncFormatter(lambda y, _: '{:.0%}'.format(y))) \n",
    "\n",
    "# Fraud is highest (31.1%) when purchases from the same device are made from three countries, followed by two countries (26.4%)\n",
    "# and then four countries (25.0%)\n",
    "sns.barplot(fraud_data.groupby('countries_from_device')['class'].mean().index, fraud_data.groupby('countries_from_device')['class'].mean(), ax = ax3[1, 0])\n",
    "ax3[1, 0].set_title('Likelihood of Fraud by Number of Countries Device made Purchases From')\n",
    "ax3[1, 0].set_xlabel('Number of Countries Device made Purchases From')\n",
    "ax3[1, 0].set_ylabel('Fraud')\n",
    "ax3[1, 0].yaxis.set_major_formatter(FuncFormatter(lambda y, _: '{:.0%}'.format(y))) \n",
    "\n",
    "# Fraud is higher the more the same device makes purchases for the same item, with 15 or more purchases at 94.3%, 11 to 15\n",
    "# purchases at 92.4%, 5 to 10 at 88.5% and progressively lower from 4 (81.3%) to none (4.5%).\n",
    "sns.barplot(fraud_data.groupby('same_purchase_freq')['class'].mean().index, fraud_data.groupby('same_purchase_freq')['class'].mean(), ax = ax3[1, 1])\n",
    "ax3[1, 1].set_title('Likelihood of Fraud by Number of Times Same Device Purchased Same Item')\n",
    "ax3[1, 1].set_xlabel('Number of Times Same Device Purchased Same Item')\n",
    "ax3[1, 1].set_ylabel('Fraud')\n",
    "ax3[1, 1].yaxis.set_major_formatter(FuncFormatter(lambda y, _: '{:.0%}'.format(y))) \n",
    "\n",
    "# Within our data, fraud is guaranteed when purchases are made less than 137 seconds after signing up. Whereas fraud occurs in only\n",
    "# 4.6% of purchase transactions made 137 seconds or more after signing up.\n",
    "sns.barplot(fraud_data.groupby('quick_purchase')['class'].mean().index, fraud_data.groupby('quick_purchase')['class'].mean(), ax = ax3[2, 0])\n",
    "ax3[2, 0].set_title('Likelihood of Fraud by Quick Purchase')\n",
    "ax3[2, 0].set_xlabel('Quick Purchase')\n",
    "ax3[2, 0].set_ylabel('Fraud')\n",
    "ax3[2, 0].yaxis.set_major_formatter(FuncFormatter(lambda y, _: '{:.0%}'.format(y))) \n",
    "\n",
    "# Fraud is more likely to occur after one purchase has been made from that device. For the first purchase from the device, fraud\n",
    "# occurred only 4.4% compared to 61.9% in subsequent purchases from that device.\n",
    "sns.barplot(fraud_data.groupby('first_purchase')['class'].mean().index, fraud_data.groupby('first_purchase')['class'].mean(), ax = ax3[2, 1])\n",
    "ax3[2, 1].set_title('Likelihood of Fraud by `First Purchase from Device` Indicator')\n",
    "ax3[2, 1].set_xlabel('`First Purchase from Device` Indicator')\n",
    "ax3[2, 1].set_ylabel('Fraud')\n",
    "ax3[2, 1].yaxis.set_major_formatter(FuncFormatter(lambda y, _: '{:.0%}'.format(y))) \n",
    "\n",
    "# Fraud is more likely for purchase values between an $80 and $104 range, where the likelihood ranges between 12.7% and 30.2%.\n",
    "sns.pointplot(data = fraud_data, x = 'purchase_value', y = 'class', ci = None, ax = ax4[0])\n",
    "ax4[0].set_title('Likelihood of Fraud by Purchase Value')\n",
    "ax4[0].set_xlabel('Purchase Value')\n",
    "ax4[0].set_ylabel('Fraud')\n",
    "ax4[0].yaxis.set_major_formatter(FuncFormatter(lambda y, _: '{:.0%}'.format(y))) \n",
    "\n",
    "original_labels = [label for label in ax4[0].get_xticks()]\n",
    "min_lab = min(original_labels)\n",
    "max_lab = max(original_labels)\n",
    "labels_of_interest = [i for i in np.arange(min_lab, max_lab, 3)]\n",
    "new_labels = [label if label in labels_of_interest else '' for label in original_labels]\n",
    "ax4[0].set_xticklabels(new_labels)\n",
    "\n",
    "# Fraud peaks around the early 60s, with the highest likelihood at 63 with 28.6%, followed by 61 at 17.4% and 58 with 13.4%.\n",
    "sns.pointplot(data = fraud_data, x = 'age', y = 'class', ci = None, ax = ax4[1])\n",
    "ax4[1].set_title('Likelihood of Fraud by Age')\n",
    "ax4[1].set_xlabel('Age')\n",
    "ax4[1].set_ylabel('Fraud')\n",
    "ax4[1].yaxis.set_major_formatter(FuncFormatter(lambda y, _: '{:.0%}'.format(y))) \n",
    "\n",
    "# Fraud is most likely to occur when purchases are made from the same device. Device frequencies of 20 have the highest likelihood of fraud, at 95%, followed by \n",
    "# device frequencies of 19, 18, and 17, and then progressively dropping until we reach the lowest likelihood of fraud, with purchases from only one device, at \n",
    "# only 3.0% likelihood.\n",
    "sns.pointplot(data = fraud_data, x = 'device_freq', y = 'class', ci = None, ax = ax4[2])\n",
    "ax4[2].set_title('Likelihood of Fraud by Device Frequency')\n",
    "ax4[2].set_xlabel('Device Frequency')\n",
    "ax4[2].set_ylabel('Fraud')\n",
    "ax4[2].yaxis.set_major_formatter(FuncFormatter(lambda y, _: '{:.0%}'.format(y))) \n",
    "\n",
    "# Fraud is most likely to occur when purchases are made from the same IP address. IP address frequencies of 19 have the highest likelihood of fraud, at 95.5%, \n",
    "# followed by IP address frequencies of 20 at 95%, and 18 at 94.4%, and then progressively dropping mostly sequentially until we reach the lowest likelihood of \n",
    "# fraud, with purchases from only one IP address at 4.6% likelihood.\n",
    "sns.pointplot(data = fraud_data, x = 'ip_address_freq', y = 'class', ci = None, ax = ax4[3])\n",
    "ax4[3].set_title('Likelihood of Fraud by IP Address Frequency')\n",
    "ax4[3].set_xlabel('IP Address Frequency')\n",
    "ax4[3].set_ylabel('Fraud')\n",
    "ax4[3].yaxis.set_major_formatter(FuncFormatter(lambda y, _: '{:.0%}'.format(y))) \n",
    "\n",
    "# Evaluating countries, we see that fraud is most likely to occur in Turkmenistan (100%), Namibia (43.5%), Sri Lanka (41.9%), Luxembourg (38.9%) and the \n",
    "# U.S. Virgin Islands (33.3%). However, the number of transactions for these countries are sparse within our dataset.\n",
    "# When we limit the analysis to countries with at least 1,000 transactions within our dataset, we see that fraud is most likely to occur in Mexico (12.0%), \n",
    "# followed by Sweden (12.0%), then Canada (11.7%), India (11.5%), United Kingdom (10.6%), Japan (9.8%) and then the United States (9.6%). \n",
    "# I am keeping unknown countries in the dataset because they may be an indication of a fraudulent activity since fraudsters go to great lengths to avoid being traced.\n",
    "sns.barplot(fraud_data.country.value_counts()[fraud_data.country.value_counts() > 1000].index, fraud_data.country.value_counts()[fraud_data.country.value_counts() > 1000], ax = ax5)\n",
    "ax5.set_title('Distribution of Country by Origin (for Countries with 1000+ Transactions)')\n",
    "ax5.set_xlabel('Country')\n",
    "ax5.set_ylabel('Distribution')\n",
    "ax5.yaxis.set_major_formatter(FuncFormatter(lambda y, _: '{:,.0f}'.format(y))) \n",
    "ax5.set_xticklabels(fraud_data.country.value_counts()[fraud_data.country.value_counts() > 1000].index, rotation = 45)  \n",
    "\n",
    "sns.barplot(fraud_data[fraud_data['country'].isin(relevant_countries_list)].groupby('country')['class'].mean().sort_values(ascending=False).index[:28], fraud_data[fraud_data['country'].isin(relevant_countries_list)].groupby('country')['class'].mean().sort_values(ascending=False)[:28], ax = ax6)\n",
    "ax6.set_title('Likelihood of Fraud by Country (for Countries with 1000+ Transactions)')\n",
    "ax6.set_xlabel('Country')\n",
    "ax6.set_ylabel('Fraud')\n",
    "ax6.yaxis.set_major_formatter(FuncFormatter(lambda y, _: '{:.0%}'.format(y))) \n",
    "ax6.set_xticklabels(fraud_data[fraud_data['country'].isin(relevant_countries_list)].groupby('country')['class'].mean().sort_values(ascending=False).index[:28], rotation = 45)  "
   ]
  },
  {
   "cell_type": "markdown",
   "metadata": {},
   "source": [
    "After reviewing visuals, it is apparent that our highest predictors of fraud are:\n",
    "- Quick Purchases: Specifically, purchases made 136 seconds or less after sign up are guaranteed to be fraudulent.\n",
    "- January Purchases: Purchases made in the month of January are 76.5% likely to be fraudulent.\n",
    "- Same Purchase Frequency of Three or More: Purchases made three or more times from the same device for the same item, with 15 or more purchases at 94.3%, 11 to 15 purchases at 92.4%, 5 to 10 at 88.5%, 4 at 81.3% and 3 at 66.7%.\n",
    "- Subsequent Purchases: For subsequent purchases from the same device, fraud occurred 61.9% of the time compared to 4.4% for first purchases.\n",
    "\n",
    "We have specific indicators for most high-risk categories, except January. A January variable will ease analysis. "
   ]
  },
  {
   "cell_type": "code",
   "execution_count": 332,
   "metadata": {},
   "outputs": [],
   "source": [
    "fraud_data['january_purchase'] = fraud_data.purchase_weekday.apply(lambda x : 1 if x == 'January' else 0)"
   ]
  },
  {
   "cell_type": "code",
   "execution_count": 333,
   "metadata": {},
   "outputs": [],
   "source": [
    "# fraud_data.info()"
   ]
  },
  {
   "cell_type": "code",
   "execution_count": 334,
   "metadata": {},
   "outputs": [],
   "source": [
    "fraud_data.to_csv('data/Fraud_Data_after_Feature_Eng.csv')"
   ]
  },
  {
   "cell_type": "markdown",
   "metadata": {},
   "source": [
    "### Drop columns not needed for modeling"
   ]
  },
  {
   "cell_type": "code",
   "execution_count": 335,
   "metadata": {},
   "outputs": [],
   "source": [
    "fraud_data.drop(['user_id', 'signup_time', 'purchase_time', 'device_id', 'age', 'ip_address', 'country', 'purchase_hour',\n",
    "                 'seconds_since_signup', 'seconds_since_signup_cat', 'seconds_since_signup_cat_str'], axis = 1, inplace = True)"
   ]
  },
  {
   "cell_type": "code",
   "execution_count": 336,
   "metadata": {},
   "outputs": [],
   "source": [
    "# fraud_data.info()"
   ]
  },
  {
   "cell_type": "markdown",
   "metadata": {},
   "source": [
    "## Modeling"
   ]
  },
  {
   "cell_type": "markdown",
   "metadata": {},
   "source": [
    "For our models, we want to minimize both false negatives (i.e. fraud not detected) and false positives (i.e. blocked transactions which were actually not fraudulent) so the evaluation metric that is most relevant would be accuracy. However, a disadvantage of using accuracy as a metric is that it can be misleadingly high when there is a significant class imbalance. Earlier, we found that the proportion of fraud in this dataset (as measured by the 'class' column) is 9.36%. Because there are fewer observations in the fraud class (i.e. the minority class), it may be harder for a model to effectively learn the decision boundary. This can be solved by oversampling observations in the minority class by synthesizing new observation from the minority class using SMOTE (Synthetic Minority Oversampling Technique). \n"
   ]
  },
  {
   "cell_type": "markdown",
   "metadata": {},
   "source": [
    "### Define predictor (X) and target (y) variables"
   ]
  },
  {
   "cell_type": "code",
   "execution_count": 337,
   "metadata": {},
   "outputs": [],
   "source": [
    "X = fraud_data.drop('class', axis=1)\n",
    "y = fraud_data['class']"
   ]
  },
  {
   "cell_type": "markdown",
   "metadata": {},
   "source": [
    "### Split the data between train and test sets"
   ]
  },
  {
   "cell_type": "code",
   "execution_count": 338,
   "metadata": {},
   "outputs": [],
   "source": [
    "X_train, X_test, y_train, y_test = train_test_split(X, y, random_state = 42, stratify = y, test_size = 0.3)"
   ]
  },
  {
   "cell_type": "markdown",
   "metadata": {},
   "source": [
    "### Perform one-hot encoding for categorical columns"
   ]
  },
  {
   "cell_type": "code",
   "execution_count": 339,
   "metadata": {},
   "outputs": [
    {
     "name": "stderr",
     "output_type": "stream",
     "text": [
      "/Users/llakes/anaconda3/envs/learn-env/lib/python3.8/site-packages/sklearn/preprocessing/_encoders.py:868: FutureWarning: `sparse` was renamed to `sparse_output` in version 1.2 and will be removed in 1.4. `sparse_output` is ignored unless you leave `sparse` to its default value.\n",
      "  warnings.warn(\n",
      "/Users/llakes/anaconda3/envs/learn-env/lib/python3.8/site-packages/sklearn/preprocessing/_encoders.py:868: FutureWarning: `sparse` was renamed to `sparse_output` in version 1.2 and will be removed in 1.4. `sparse_output` is ignored unless you leave `sparse` to its default value.\n",
      "  warnings.warn(\n"
     ]
    }
   ],
   "source": [
    "# Specify the categorical columns to encode\n",
    "X_train_cat = X_train.select_dtypes('object')\n",
    "X_test_cat = X_test.select_dtypes('object')\n",
    "\n",
    "# Create an instance of the OneHotEncoder\n",
    "ohe = OneHotEncoder(drop = 'first', sparse = False)\n",
    "\n",
    "# Transform the categorical columns in both the training and testing sets\n",
    "X_train_dummies = pd.DataFrame(ohe.fit_transform(X_train_cat), columns=ohe.get_feature_names_out(), index=X_train_cat.index)\n",
    "X_test_dummies = pd.DataFrame(ohe.fit_transform(X_test_cat), columns=ohe.get_feature_names_out(), index=X_test_cat.index)"
   ]
  },
  {
   "cell_type": "markdown",
   "metadata": {},
   "source": [
    "### Normalize numerical columns by scaling the train and test sets"
   ]
  },
  {
   "cell_type": "code",
   "execution_count": 340,
   "metadata": {},
   "outputs": [],
   "source": [
    "# Specify the numerical columns to scale\n",
    "X_train_nums = X_train.select_dtypes('int64')\n",
    "X_test_nums = X_test.select_dtypes('int64')\n",
    "\n",
    "# Create an instance of the StandardScaler\n",
    "ss = StandardScaler()\n",
    "\n",
    "# Transform the numerical columns in both the training and testing sets\n",
    "X_train_scaled = pd.DataFrame(ss.fit_transform(X_train_nums), index = X_train_nums.index)\n",
    "X_test_scaled = pd.DataFrame(ss.fit_transform(X_test_nums), index = X_test_nums.index)\n",
    "\n",
    "X_train_scaled.columns = X_train_nums.columns\n",
    "X_test_scaled.columns = X_test_nums.columns\n"
   ]
  },
  {
   "cell_type": "markdown",
   "metadata": {},
   "source": [
    "### Merge the pre-processed categorical and numerical columns"
   ]
  },
  {
   "cell_type": "code",
   "execution_count": 341,
   "metadata": {},
   "outputs": [],
   "source": [
    "X_train_clean = pd.concat([X_train_scaled, X_train_dummies], axis = 1)\n",
    "X_test_clean = pd.concat([X_test_scaled, X_test_dummies], axis = 1)\n",
    "\n",
    "X_train_clean.columns = X_train_clean.columns.astype(str)\n",
    "X_test_clean.columns = X_test_clean.columns.astype(str)"
   ]
  },
  {
   "cell_type": "code",
   "execution_count": 342,
   "metadata": {},
   "outputs": [
    {
     "data": {
      "text/plain": [
       "62201     0\n",
       "141967    0\n",
       "85320     0\n",
       "116317    0\n",
       "62954     0\n",
       "         ..\n",
       "80696     0\n",
       "138033    0\n",
       "15011     0\n",
       "24704     0\n",
       "120714    0\n",
       "Name: class, Length: 105778, dtype: int64"
      ]
     },
     "execution_count": 342,
     "metadata": {},
     "output_type": "execute_result"
    }
   ],
   "source": [
    "y_train"
   ]
  },
  {
   "cell_type": "markdown",
   "metadata": {},
   "source": [
    "### Perform SMOTE to address the class imbalance of the fraud variable"
   ]
  },
  {
   "cell_type": "code",
   "execution_count": 343,
   "metadata": {},
   "outputs": [],
   "source": [
    "# Create an instance of SMOTE\n",
    "smote = SMOTE(random_state = 42)\n",
    "\n",
    "# Apply SMOTE on the training data\n",
    "X_train_resampled, y_train_resampled = smote.fit_resample(X_train_clean, y_train)"
   ]
  },
  {
   "cell_type": "markdown",
   "metadata": {},
   "source": [
    "### MODEL 1: Apply a Dummy Classifier as the Baseline Model"
   ]
  },
  {
   "cell_type": "code",
   "execution_count": 344,
   "metadata": {},
   "outputs": [
    {
     "name": "stdout",
     "output_type": "stream",
     "text": [
      "              precision    recall  f1-score   support\n",
      "\n",
      "           0       0.91      1.00      0.95     41089\n",
      "           1       0.00      0.00      0.00      4245\n",
      "\n",
      "    accuracy                           0.91     45334\n",
      "   macro avg       0.45      0.50      0.48     45334\n",
      "weighted avg       0.82      0.91      0.86     45334\n",
      "\n"
     ]
    },
    {
     "name": "stderr",
     "output_type": "stream",
     "text": [
      "/Users/llakes/anaconda3/envs/learn-env/lib/python3.8/site-packages/sklearn/metrics/_classification.py:1344: UndefinedMetricWarning: Precision and F-score are ill-defined and being set to 0.0 in labels with no predicted samples. Use `zero_division` parameter to control this behavior.\n",
      "  _warn_prf(average, modifier, msg_start, len(result))\n",
      "/Users/llakes/anaconda3/envs/learn-env/lib/python3.8/site-packages/sklearn/metrics/_classification.py:1344: UndefinedMetricWarning: Precision and F-score are ill-defined and being set to 0.0 in labels with no predicted samples. Use `zero_division` parameter to control this behavior.\n",
      "  _warn_prf(average, modifier, msg_start, len(result))\n",
      "/Users/llakes/anaconda3/envs/learn-env/lib/python3.8/site-packages/sklearn/metrics/_classification.py:1344: UndefinedMetricWarning: Precision and F-score are ill-defined and being set to 0.0 in labels with no predicted samples. Use `zero_division` parameter to control this behavior.\n",
      "  _warn_prf(average, modifier, msg_start, len(result))\n"
     ]
    }
   ],
   "source": [
    "# Create a baseline model\n",
    "dummy_model = DummyClassifier(strategy = 'most_frequent')\n",
    "\n",
    "# Train the model on the resampled training data\n",
    "dummy_model.fit(X_train_resampled, y_train_resampled)\n",
    "\n",
    "# Predict on the testing data\n",
    "y_pred_dummy = dummy_model.predict(X_test_clean)\n",
    "\n",
    "# Evaluate the model's performance using classification metrics\n",
    "print(classification_report(y_test, y_pred_dummy))"
   ]
  },
  {
   "cell_type": "code",
   "execution_count": 345,
   "metadata": {},
   "outputs": [
    {
     "data": {
      "image/png": "[encoded data removed]",
      "text/plain": [
       "<Figure size 576x432 with 2 Axes>"
      ]
     },
     "metadata": {
      "needs_background": "light"
     },
     "output_type": "display_data"
    }
   ],
   "source": [
    "# Create a confusion matrix\n",
    "cm = confusion_matrix(y_test, y_pred_dummy)\n",
    "\n",
    "# Create a ConfusionMatrixDisplay object\n",
    "disp = ConfusionMatrixDisplay(confusion_matrix = cm, display_labels=['No Fraud', 'Fraud'])\n",
    "\n",
    "# Plot the confusion matrix\n",
    "fig, ax = plt.subplots(figsize=(8, 6))\n",
    "disp.plot(ax=ax)\n",
    "\n",
    "# Add a title and axis labels\n",
    "plt.title(\"Dummy Classifier Confusion Matrix\")\n",
    "plt.xlabel(\"Predicted Label\")\n",
    "plt.ylabel(\"True Label\")\n",
    "\n",
    "# Show the plot\n",
    "\n",
    "plt.show()"
   ]
  },
  {
   "cell_type": "markdown",
   "metadata": {},
   "source": [
    "### MODEL 2: Apply a Decision Tree Model"
   ]
  },
  {
   "cell_type": "code",
   "execution_count": 346,
   "metadata": {},
   "outputs": [
    {
     "name": "stdout",
     "output_type": "stream",
     "text": [
      "Classification Report:\n",
      "              precision    recall  f1-score   support\n",
      "\n",
      "           0       0.97      0.93      0.95     41089\n",
      "           1       0.52      0.72      0.61      4245\n",
      "\n",
      "    accuracy                           0.91     45334\n",
      "   macro avg       0.75      0.83      0.78     45334\n",
      "weighted avg       0.93      0.91      0.92     45334\n",
      "\n"
     ]
    }
   ],
   "source": [
    "# Create an instance of the DecisionTreeClassifier\n",
    "dt_model = DecisionTreeClassifier(max_depth = 3)\n",
    "\n",
    "# Train the model on the resampled training data\n",
    "dt_model.fit(X_train_resampled, y_train_resampled)\n",
    "\n",
    "# Predict on the testing data\n",
    "y_pred_dt = dt_model.predict(X_test_clean)\n",
    "\n",
    "# Evaluate the model's performance using classification metrics\n",
    "print(\"Classification Report:\")\n",
    "print(classification_report(y_test, y_pred_dt))"
   ]
  },
  {
   "cell_type": "code",
   "execution_count": 347,
   "metadata": {},
   "outputs": [
    {
     "data": {
      "image/png": "[encoded data removed]",
      "text/plain": [
       "<Figure size 576x432 with 2 Axes>"
      ]
     },
     "metadata": {
      "needs_background": "light"
     },
     "output_type": "display_data"
    }
   ],
   "source": [
    "# Create a confusion matrix\n",
    "cm = confusion_matrix(y_test, y_pred_dt)\n",
    "\n",
    "# Create a ConfusionMatrixDisplay object\n",
    "disp = ConfusionMatrixDisplay(confusion_matrix = cm, display_labels=['No Fraud', 'Fraud'])\n",
    "\n",
    "# Plot the confusion matrix\n",
    "fig, ax = plt.subplots(figsize=(8, 6))\n",
    "disp.plot(ax=ax)\n",
    "\n",
    "# Add a title and axis labels\n",
    "plt.title(\"Decision Tree Confusion Matrix\")\n",
    "plt.xlabel(\"Predicted Label\")\n",
    "plt.ylabel(\"True Label\")\n",
    "\n",
    "# Show the plot\n",
    "\n",
    "plt.show()"
   ]
  },
  {
   "cell_type": "code",
   "execution_count": 348,
   "metadata": {},
   "outputs": [
    {
     "data": {
      "image/png": "[encoded data removed]",
      "text/plain": [
       "<Figure size 1440x864 with 1 Axes>"
      ]
     },
     "metadata": {
      "needs_background": "light"
     },
     "output_type": "display_data"
    }
   ],
   "source": [
    "# Plot the decision tree\n",
    "plt.figure(figsize=(20, 12))\n",
    "tree.plot_tree(dt_model, feature_names = X_train_clean.columns, class_names=['No Fraud', 'Fraud'], filled = True)\n",
    "plt.show()"
   ]
  },
  {
   "cell_type": "code",
   "execution_count": 349,
   "metadata": {},
   "outputs": [
    {
     "data": {
      "text/plain": [
       "{'purchase_value': 0.0,\n",
       " 'countries_from_device': 0.0,\n",
       " 'device_freq': 0.8915680347822961,\n",
       " 'ip_address_freq': 0.0,\n",
       " 'quick_purchase': 0.04695722372228028,\n",
       " 'first_purchase': 0.0,\n",
       " 'january_purchase': 0.0,\n",
       " 'source_Direct': 0.006959593609298011,\n",
       " 'source_SEO': 0.0,\n",
       " 'browser_FireFox': 0.0,\n",
       " 'browser_IE': 0.0,\n",
       " 'browser_Opera': 0.0,\n",
       " 'browser_Safari': 0.053852275851237426,\n",
       " 'sex_M': 0.0006628720348881947,\n",
       " 'country_risk_Low risk': 0.0,\n",
       " 'country_risk_Medium risk': 0.0,\n",
       " 'country_risk_Very High risk': 0.0,\n",
       " 'age_group_40 - 49': 0.0,\n",
       " 'age_group_50 - 59': 0.0,\n",
       " 'age_group_60 - 69': 0.0,\n",
       " 'age_group_< 40': 0.0,\n",
       " 'same_purchase_freq_11-15': 0.0,\n",
       " 'same_purchase_freq_2': 0.0,\n",
       " 'same_purchase_freq_3': 0.0,\n",
       " 'same_purchase_freq_4': 0.0,\n",
       " 'same_purchase_freq_5-10': 0.0,\n",
       " 'same_purchase_freq_>15': 0.0,\n",
       " 'purchase_month_August': 0.0,\n",
       " 'purchase_month_December': 0.0,\n",
       " 'purchase_month_February': 0.0,\n",
       " 'purchase_month_January': 0.0,\n",
       " 'purchase_month_July': 0.0,\n",
       " 'purchase_month_June': 0.0,\n",
       " 'purchase_month_March': 0.0,\n",
       " 'purchase_month_May': 0.0,\n",
       " 'purchase_month_November': 0.0,\n",
       " 'purchase_month_October': 0.0,\n",
       " 'purchase_month_September': 0.0,\n",
       " 'purchase_weekday_Monday': 0.0,\n",
       " 'purchase_weekday_Saturday': 0.0,\n",
       " 'purchase_weekday_Sunday': 0.0,\n",
       " 'purchase_weekday_Thursday': 0.0,\n",
       " 'purchase_weekday_Tuesday': 0.0,\n",
       " 'purchase_weekday_Wednesday': 0.0,\n",
       " 'purchase_period_of_day_early afternoon': 0.0,\n",
       " 'purchase_period_of_day_early morning': 0.0,\n",
       " 'purchase_period_of_day_evening': 0.0,\n",
       " 'purchase_period_of_day_late night': 0.0,\n",
       " 'purchase_period_of_day_morning': 0.0}"
      ]
     },
     "execution_count": 349,
     "metadata": {},
     "output_type": "execute_result"
    }
   ],
   "source": [
    "feature_imp = {}\n",
    "for fi, feature in zip(dt_model.feature_importances_, dt_model.feature_names_in_):\n",
    "    feature_imp[feature] = fi\n",
    "\n",
    "feature_imp"
   ]
  },
  {
   "cell_type": "markdown",
   "metadata": {},
   "source": [
    "### MODEL 3: Apply a Logistic Regression Model"
   ]
  },
  {
   "cell_type": "code",
   "execution_count": 350,
   "metadata": {},
   "outputs": [
    {
     "name": "stdout",
     "output_type": "stream",
     "text": [
      "Classification Report:\n",
      "              precision    recall  f1-score   support\n",
      "\n",
      "           0       0.97      0.94      0.95     41089\n",
      "           1       0.54      0.72      0.62      4245\n",
      "\n",
      "    accuracy                           0.92     45334\n",
      "   macro avg       0.76      0.83      0.79     45334\n",
      "weighted avg       0.93      0.92      0.92     45334\n",
      "\n"
     ]
    },
    {
     "name": "stderr",
     "output_type": "stream",
     "text": [
      "/Users/llakes/anaconda3/envs/learn-env/lib/python3.8/site-packages/sklearn/linear_model/_logistic.py:458: ConvergenceWarning: lbfgs failed to converge (status=1):\n",
      "STOP: TOTAL NO. of ITERATIONS REACHED LIMIT.\n",
      "\n",
      "Increase the number of iterations (max_iter) or scale the data as shown in:\n",
      "    https://scikit-learn.org/stable/modules/preprocessing.html\n",
      "Please also refer to the documentation for alternative solver options:\n",
      "    https://scikit-learn.org/stable/modules/linear_model.html#logistic-regression\n",
      "  n_iter_i = _check_optimize_result(\n"
     ]
    }
   ],
   "source": [
    "# Create an instance of the logistic regression model\n",
    "logreg_model = LogisticRegression()\n",
    "\n",
    "# Train the model on the resampled training data\n",
    "logreg_model.fit(X_train_resampled, y_train_resampled)\n",
    "\n",
    "# Predict on the testing data\n",
    "y_pred_logreg = logreg_model.predict(X_test_clean)\n",
    "\n",
    "# Evaluate the model's performance using classification metrics\n",
    "print(\"Classification Report:\")\n",
    "print(classification_report(y_test, y_pred_logreg))"
   ]
  },
  {
   "cell_type": "code",
   "execution_count": 351,
   "metadata": {},
   "outputs": [
    {
     "name": "stdout",
     "output_type": "stream",
     "text": [
      "Coefficients:\n",
      "   purchase_value  countries_from_device  device_freq  ip_address_freq  \\\n",
      "0       -0.023458                0.12551      4.24691        -4.245072   \n",
      "\n",
      "   quick_purchase  first_purchase  january_purchase  source_Direct  \\\n",
      "0        4.621133       -0.046962               0.0       0.047274   \n",
      "\n",
      "   source_SEO  browser_FireFox  ...  purchase_weekday_Sunday  \\\n",
      "0   -0.069247        -0.181128  ...                -0.159183   \n",
      "\n",
      "   purchase_weekday_Thursday  purchase_weekday_Tuesday  \\\n",
      "0                  -0.171171                 -0.187709   \n",
      "\n",
      "   purchase_weekday_Wednesday  purchase_period_of_day_early afternoon  \\\n",
      "0                   -0.131669                               -0.161737   \n",
      "\n",
      "   purchase_period_of_day_early morning  purchase_period_of_day_evening  \\\n",
      "0                             -0.093739                       -0.155146   \n",
      "\n",
      "   purchase_period_of_day_late night  purchase_period_of_day_morning  \\\n",
      "0                          -0.190773                       -0.135046   \n",
      "\n",
      "   Intercept  \n",
      "0   0.351499  \n",
      "\n",
      "[1 rows x 50 columns]\n"
     ]
    }
   ],
   "source": [
    "# Get the coefficients and intercept from the logistic regression model\n",
    "coefficients = logreg_model.coef_\n",
    "intercept = logreg_model.intercept_\n",
    "\n",
    "# Create a DataFrame to display the coefficients\n",
    "X_train_coefficients = pd.DataFrame(coefficients, columns=X_train_clean.columns)\n",
    "X_train_coefficients['Intercept'] = intercept\n",
    "\n",
    "# Print the coefficients\n",
    "print(\"Coefficients:\")\n",
    "print(X_train_coefficients)"
   ]
  },
  {
   "cell_type": "code",
   "execution_count": 352,
   "metadata": {},
   "outputs": [
    {
     "name": "stdout",
     "output_type": "stream",
     "text": [
      "Odds:\n",
      "   purchase_value  countries_from_device  device_freq  ip_address_freq  \\\n",
      "0        0.976815               1.133726    69.889103         0.014335   \n",
      "\n",
      "   quick_purchase  first_purchase  january_purchase  source_Direct  \\\n",
      "0      101.609061        0.954123               1.0       1.048409   \n",
      "\n",
      "   source_SEO  browser_FireFox  ...  purchase_weekday_Saturday  \\\n",
      "0    0.933096         0.834328  ...                   0.893298   \n",
      "\n",
      "   purchase_weekday_Sunday  purchase_weekday_Thursday  \\\n",
      "0                 0.852841                   0.842677   \n",
      "\n",
      "   purchase_weekday_Tuesday  purchase_weekday_Wednesday  \\\n",
      "0                  0.828856                    0.876631   \n",
      "\n",
      "   purchase_period_of_day_early afternoon  \\\n",
      "0                                0.850665   \n",
      "\n",
      "   purchase_period_of_day_early morning  purchase_period_of_day_evening  \\\n",
      "0                              0.910521                         0.85629   \n",
      "\n",
      "   purchase_period_of_day_late night  purchase_period_of_day_morning  \n",
      "0                            0.82632                        0.873676  \n",
      "\n",
      "[1 rows x 49 columns]\n"
     ]
    }
   ],
   "source": [
    "odds = np.exp(coefficients)\n",
    "\n",
    "# Create a DataFrame to display the odds\n",
    "X_train_odds = pd.DataFrame(odds, columns=X_train_clean.columns)\n",
    "\n",
    "# Print the odds\n",
    "print(\"Odds:\")\n",
    "print(X_train_odds)"
   ]
  },
  {
   "cell_type": "code",
   "execution_count": 353,
   "metadata": {},
   "outputs": [
    {
     "data": {
      "image/png": "[encoded data removed]",
      "text/plain": [
       "<Figure size 576x432 with 2 Axes>"
      ]
     },
     "metadata": {
      "needs_background": "light"
     },
     "output_type": "display_data"
    }
   ],
   "source": [
    "# Create a confusion matrix\n",
    "cm = confusion_matrix(y_test, y_pred_logreg)\n",
    "\n",
    "# Create a ConfusionMatrixDisplay object\n",
    "disp = ConfusionMatrixDisplay(confusion_matrix = cm, display_labels=['No Fraud', 'Fraud'])\n",
    "\n",
    "# Plot the confusion matrix\n",
    "fig, ax = plt.subplots(figsize=(8, 6))\n",
    "disp.plot(ax=ax)\n",
    "\n",
    "# Add a title and axis labels\n",
    "plt.title(\"Logistic Regression Confusion Matrix\")\n",
    "plt.xlabel(\"Predicted Label\")\n",
    "plt.ylabel(\"True Label\")\n",
    "\n",
    "# Show the plot\n",
    "\n",
    "plt.show()"
   ]
  },
  {
   "cell_type": "code",
   "execution_count": 354,
   "metadata": {},
   "outputs": [],
   "source": [
    "logreg_scores = logreg_model.predict_proba(X_test_clean)"
   ]
  },
  {
   "cell_type": "markdown",
   "metadata": {},
   "source": [
    "Use a Receiver Operating Characteristic (ROC) curve to plot the True Positive Rate vs. he False Positive Rate. "
   ]
  },
  {
   "cell_type": "code",
   "execution_count": 355,
   "metadata": {},
   "outputs": [
    {
     "data": {
      "image/png": "[encoded data removed]",
      "text/plain": [
       "<Figure size 432x288 with 1 Axes>"
      ]
     },
     "metadata": {
      "needs_background": "light"
     },
     "output_type": "display_data"
    }
   ],
   "source": [
    "logreg_roc_auc = roc_auc_score(y_test, y_pred_logreg)\n",
    "fpr, tpr, thresholds = roc_curve(y_test, logreg_scores[:,1])\n",
    "plt.figure()\n",
    "plt.plot(fpr, tpr, label='Logistic Regression (AUC = %0.3f)' % logreg_roc_auc)\n",
    "plt.plot([0, 1], [0, 1],'r--')\n",
    "plt.xlim([-0.05, 1.05])\n",
    "plt.ylim([-0.05, 1.05])\n",
    "plt.xlabel('False Positive Rate')\n",
    "plt.ylabel('True Positive Rate')\n",
    "plt.title('Receiver Operating Characteristic for Logistic Regression')\n",
    "plt.legend(loc=\"lower right\")\n",
    "plt.savefig('logreg_roc')\n",
    "plt.show()"
   ]
  },
  {
   "cell_type": "markdown",
   "metadata": {},
   "source": [
    "Since we want our y-values (True Positive Rates) to be as high as possible for any particular x-value, a larger Area Under the Curve (AUC) indicates a better classifier. In this case, the AUC is 82.7%.\n",
    "\n",
    "We want to set the appropriate level of threshold to reduce the number of false negatives (i.e. fraud not detected) without unduly increasing the cost of false positives (i.e. blocked transactions which were actually not fraudulent). We can examine the true- and false-positive rates for various thresholds:"
   ]
  },
  {
   "cell_type": "code",
   "execution_count": 356,
   "metadata": {},
   "outputs": [],
   "source": [
    "def classify_rates(y_test, y_probs, thresh):\n",
    "    y_hat = []\n",
    "    for val in y_probs:                 # Each element in y_hat_probs is an array.\n",
    "        if val[1] < thresh:             # We'll set our own threshold for classifying\n",
    "            y_hat.append(0)             # a test point as positive! The lower my threshold,\n",
    "        else:                           # the fewer predicted positives I'll have. For the\n",
    "            y_hat.append(1)             # cancer example, I'd want to set a *high* threshold.\n",
    "    cm = confusion_matrix(y_test, y_hat)\n",
    "    tp, tn, fp, fn = cm[1][1], cm[0][0], cm[0][1], cm[1][0]\n",
    "    tpr = tp / (tp + fn)\n",
    "    fpr = fp / (fp + tn)\n",
    "    return tpr, fpr, f'tpr:{round(tpr, 3)}, fpr:{round(fpr, 3)}'"
   ]
  },
  {
   "cell_type": "code",
   "execution_count": 357,
   "metadata": {},
   "outputs": [
    {
     "name": "stdout",
     "output_type": "stream",
     "text": [
      "Rates at threshold = 0.0: tpr:1.0, fpr:1.0\n",
      "Rates at threshold = 0.1: tpr:1.0, fpr:0.996\n",
      "Rates at threshold = 0.2: tpr:0.953, fpr:0.85\n",
      "Rates at threshold = 0.3: tpr:0.734, fpr:0.114\n",
      "Rates at threshold = 0.4: tpr:0.717, fpr:0.062\n",
      "Rates at threshold = 0.5: tpr:0.716, fpr:0.062\n",
      "Rates at threshold = 0.6: tpr:0.706, fpr:0.059\n",
      "Rates at threshold = 0.7: tpr:0.659, fpr:0.042\n",
      "Rates at threshold = 0.8: tpr:0.549, fpr:0.004\n",
      "Rates at threshold = 0.9: tpr:0.539, fpr:0.002\n",
      "Rates at threshold = 1.0: tpr:0.0, fpr:0.0\n"
     ]
    }
   ],
   "source": [
    "for x in np.linspace(0, 1, 11):\n",
    "    print(f'Rates at threshold = {round(x, 2)}: '\\\n",
    "          + classify_rates(y_test, logreg_scores, x)[2])"
   ]
  },
  {
   "cell_type": "markdown",
   "metadata": {},
   "source": [
    "One way of choosing a threshold is to select the point on the curve that is furthest from (1, 0), the \"worse-case\" point where the True Positive Rate is 0 and the False Positive Rate is 1. So let's find that point as well:"
   ]
  },
  {
   "cell_type": "code",
   "execution_count": 358,
   "metadata": {},
   "outputs": [
    {
     "name": "stdout",
     "output_type": "stream",
     "text": [
      "The optimal threshold for the Logistic Regression Model is 0.4 when: \n",
      "\tThe True Positive Rate is 0.717 \n",
      "\tand the False Positive Rate is 0.062\n"
     ]
    }
   ],
   "source": [
    "tprs = []\n",
    "fprs = []\n",
    "diffs = []\n",
    "for x in np.linspace(0, 1, 101):\n",
    "    fprs.append(classify_rates(y_test, logreg_scores, x)[1])\n",
    "    tprs.append(classify_rates(y_test, logreg_scores, x)[0])\n",
    "    diffs.append(np.sqrt(tprs[-1]**2 + (1-fprs[-1])**2))\n",
    "    \n",
    "max_dist = diffs.index(np.max(diffs))\n",
    "print(f\"\"\"The optimal threshold for the Logistic Regression Model is {(max_dist - 1) / 100} when: \\n\"\"\"\n",
    "      f\"\"\"\\tThe True Positive Rate is {round(tprs[max_dist], 3)} \\n\"\"\"\n",
    "      f\"\"\"\\tand the False Positive Rate is {round(fprs[max_dist], 3)}\"\"\")"
   ]
  },
  {
   "cell_type": "code",
   "execution_count": 359,
   "metadata": {},
   "outputs": [
    {
     "name": "stdout",
     "output_type": "stream",
     "text": [
      "[0 0 0 ... 0 0 0]\n"
     ]
    }
   ],
   "source": [
    "# Changing the threshold from the 0.5 default to 0.4:\n",
    "y_pred_new_threshold = (logreg_scores[:, 1] >= 0.4).astype(int)\n",
    "print(y_pred_new_threshold)"
   ]
  },
  {
   "cell_type": "code",
   "execution_count": 360,
   "metadata": {},
   "outputs": [
    {
     "name": "stdout",
     "output_type": "stream",
     "text": [
      "Evaluation metrics with threshold 0.5:\n",
      "Accuracy: 0.9169718092380994\n",
      "Precision: 0.5429694479185277\n",
      "Recall: 0.7159010600706713\n",
      "F1 score: 0.6175574070310912\n"
     ]
    }
   ],
   "source": [
    "# Evaluation metrics for default threshold\n",
    "print(\"Evaluation metrics with threshold 0.5:\")\n",
    "print(\"Accuracy:\", accuracy_score(y_test, y_pred_logreg))\n",
    "print(\"Precision:\", precision_score(y_test, y_pred_logreg))\n",
    "print(\"Recall:\", recall_score(y_test, y_pred_logreg))\n",
    "print(\"F1 score:\", f1_score(y_test, y_pred_logreg))"
   ]
  },
  {
   "cell_type": "code",
   "execution_count": 361,
   "metadata": {},
   "outputs": [
    {
     "name": "stdout",
     "output_type": "stream",
     "text": [
      "Evaluation metrics with threshold 0.9:\n",
      "Accuracy: 0.9168394582432611\n",
      "Precision: 0.542327570842987\n",
      "Recall: 0.7168433451118964\n",
      "F1 score: 0.6174918831168832\n"
     ]
    }
   ],
   "source": [
    "\n",
    "# Evaluation metrics for new threshold\n",
    "print(\"Evaluation metrics with threshold 0.9:\")\n",
    "print(\"Accuracy:\", accuracy_score(y_test, y_pred_new_threshold))\n",
    "print(\"Precision:\", precision_score(y_test, y_pred_new_threshold))\n",
    "print(\"Recall:\", recall_score(y_test, y_pred_new_threshold))\n",
    "print(\"F1 score:\", f1_score(y_test, y_pred_new_threshold))"
   ]
  },
  {
   "cell_type": "markdown",
   "metadata": {},
   "source": [
    "Choosing a different threshold does not yield better results as the default threshold of 0.5 has a better accuracy score."
   ]
  }
 ],
 "metadata": {
  "kernelspec": {
   "display_name": "Python 3",
   "language": "python",
   "name": "python3"
  },
  "language_info": {
   "codemirror_mode": {
    "name": "ipython",
    "version": 3
   },
   "file_extension": ".py",
   "mimetype": "text/x-python",
   "name": "python",
   "nbconvert_exporter": "python",
   "pygments_lexer": "ipython3",
   "version": "3.8.5"
  },
  "orig_nbformat": 4
 },
 "nbformat": 4,
 "nbformat_minor": 2
}
